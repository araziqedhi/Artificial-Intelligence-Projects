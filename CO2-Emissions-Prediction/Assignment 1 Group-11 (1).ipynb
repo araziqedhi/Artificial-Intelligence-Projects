{
 "cells": [
  {
   "cell_type": "code",
   "execution_count": 1,
   "id": "92b64e2c",
   "metadata": {},
   "outputs": [],
   "source": [
    "import pandas as pd\n",
    "import numpy as np\n"
   ]
  },
  {
   "cell_type": "markdown",
   "id": "d3753910",
   "metadata": {},
   "source": [
    "## Loading the Csv File"
   ]
  },
  {
   "cell_type": "code",
   "execution_count": 2,
   "id": "5b4700b1",
   "metadata": {},
   "outputs": [
    {
     "data": {
      "text/plain": [
       "SUV - SMALL                 1217\n",
       "MID-SIZE                    1133\n",
       "COMPACT                     1022\n",
       "SUV - STANDARD               735\n",
       "FULL-SIZE                    639\n",
       "SUBCOMPACT                   606\n",
       "PICKUP TRUCK - STANDARD      538\n",
       "TWO-SEATER                   460\n",
       "MINICOMPACT                  326\n",
       "STATION WAGON - SMALL        252\n",
       "PICKUP TRUCK - SMALL         159\n",
       "MINIVAN                       80\n",
       "SPECIAL PURPOSE VEHICLE       77\n",
       "VAN - PASSENGER               66\n",
       "STATION WAGON - MID-SIZE      53\n",
       "VAN - CARGO                   22\n",
       "Name: Vehicle Class, dtype: int64"
      ]
     },
     "execution_count": 2,
     "metadata": {},
     "output_type": "execute_result"
    }
   ],
   "source": [
    "df=pd.read_csv(\"./CO2 Emissions_Canada.csv\")\n",
    "df.shape\n",
    "df.describe()\n",
    "df.count()\n",
    "df\n",
    "df.head()\n",
    "df[\"Fuel Type\"].value_counts()\n",
    "df.columns\n",
    "df.shape\n",
    "df.columns\n",
    "df.nunique()\n",
    "df[\"Vehicle Class\"].value_counts()"
   ]
  },
  {
   "cell_type": "markdown",
   "id": "511b6ad8",
   "metadata": {},
   "source": [
    "## Preprocessing the Data"
   ]
  },
  {
   "cell_type": "code",
   "execution_count": 3,
   "id": "913bda5c",
   "metadata": {},
   "outputs": [],
   "source": [
    "df=df.drop(\"Fuel Consumption Comb (mpg)\",axis=\"columns\")"
   ]
  },
  {
   "cell_type": "code",
   "execution_count": 4,
   "id": "ffb98c50",
   "metadata": {},
   "outputs": [
    {
     "data": {
      "text/plain": [
       "Make                       42\n",
       "Model                    2053\n",
       "Vehicle Class              16\n",
       "Engine Size(L)             51\n",
       "Cylinders                   8\n",
       "Transmission               27\n",
       "Fuel Type                   5\n",
       "Fuel Consumption City     211\n",
       "Fuel Consumption Hwy      143\n",
       "Fuel Consumption Comb     181\n",
       "CO2 Emissions(g/km)       331\n",
       "dtype: int64"
      ]
     },
     "execution_count": 4,
     "metadata": {},
     "output_type": "execute_result"
    }
   ],
   "source": [
    "df.sort_values(by=\"CO2 Emissions(g/km)\", inplace=True)\n",
    "df\n",
    "pd.isna(df).sum()\n",
    "new_cols=[]\n",
    "for i in df.columns:\n",
    "    new= i.replace(' (L/100 km)','')\n",
    "    new_cols.append(new)\n",
    "df.columns=new_cols\n",
    "df.head(10)\n",
    "df.shape\n",
    "df.nunique()\n"
   ]
  },
  {
   "cell_type": "code",
   "execution_count": 5,
   "id": "ffb88885",
   "metadata": {},
   "outputs": [
    {
     "data": {
      "text/html": [
       "<div>\n",
       "<style scoped>\n",
       "    .dataframe tbody tr th:only-of-type {\n",
       "        vertical-align: middle;\n",
       "    }\n",
       "\n",
       "    .dataframe tbody tr th {\n",
       "        vertical-align: top;\n",
       "    }\n",
       "\n",
       "    .dataframe thead th {\n",
       "        text-align: right;\n",
       "    }\n",
       "</style>\n",
       "<table border=\"1\" class=\"dataframe\">\n",
       "  <thead>\n",
       "    <tr style=\"text-align: right;\">\n",
       "      <th></th>\n",
       "      <th>Make</th>\n",
       "      <th>Vehicle Class</th>\n",
       "      <th>Engine Size(L)</th>\n",
       "      <th>Cylinders</th>\n",
       "      <th>Fuel Type</th>\n",
       "      <th>Fuel Consumption Comb</th>\n",
       "      <th>CO2 Emissions(g/km)</th>\n",
       "    </tr>\n",
       "  </thead>\n",
       "  <tbody>\n",
       "    <tr>\n",
       "      <th>5126</th>\n",
       "      <td>MERCEDES-BENZ</td>\n",
       "      <td>SUV - STANDARD</td>\n",
       "      <td>6.0</td>\n",
       "      <td>12</td>\n",
       "      <td>Z</td>\n",
       "      <td>20.3</td>\n",
       "      <td>473</td>\n",
       "    </tr>\n",
       "    <tr>\n",
       "      <th>2971</th>\n",
       "      <td>MERCEDES-BENZ</td>\n",
       "      <td>SUV - STANDARD</td>\n",
       "      <td>6.0</td>\n",
       "      <td>12</td>\n",
       "      <td>Z</td>\n",
       "      <td>21.4</td>\n",
       "      <td>476</td>\n",
       "    </tr>\n",
       "    <tr>\n",
       "      <th>7058</th>\n",
       "      <td>LAMBORGHINI</td>\n",
       "      <td>TWO-SEATER</td>\n",
       "      <td>6.5</td>\n",
       "      <td>12</td>\n",
       "      <td>Z</td>\n",
       "      <td>21.4</td>\n",
       "      <td>485</td>\n",
       "    </tr>\n",
       "    <tr>\n",
       "      <th>6045</th>\n",
       "      <td>LAMBORGHINI</td>\n",
       "      <td>TWO-SEATER</td>\n",
       "      <td>6.5</td>\n",
       "      <td>12</td>\n",
       "      <td>Z</td>\n",
       "      <td>21.5</td>\n",
       "      <td>487</td>\n",
       "    </tr>\n",
       "    <tr>\n",
       "      <th>349</th>\n",
       "      <td>FORD</td>\n",
       "      <td>VAN - PASSENGER</td>\n",
       "      <td>6.8</td>\n",
       "      <td>10</td>\n",
       "      <td>X</td>\n",
       "      <td>21.2</td>\n",
       "      <td>488</td>\n",
       "    </tr>\n",
       "    <tr>\n",
       "      <th>6046</th>\n",
       "      <td>LAMBORGHINI</td>\n",
       "      <td>TWO-SEATER</td>\n",
       "      <td>6.5</td>\n",
       "      <td>12</td>\n",
       "      <td>Z</td>\n",
       "      <td>21.7</td>\n",
       "      <td>493</td>\n",
       "    </tr>\n",
       "    <tr>\n",
       "      <th>7059</th>\n",
       "      <td>LAMBORGHINI</td>\n",
       "      <td>TWO-SEATER</td>\n",
       "      <td>6.5</td>\n",
       "      <td>12</td>\n",
       "      <td>Z</td>\n",
       "      <td>21.7</td>\n",
       "      <td>493</td>\n",
       "    </tr>\n",
       "    <tr>\n",
       "      <th>5575</th>\n",
       "      <td>BUGATTI</td>\n",
       "      <td>TWO-SEATER</td>\n",
       "      <td>8.0</td>\n",
       "      <td>16</td>\n",
       "      <td>Z</td>\n",
       "      <td>22.2</td>\n",
       "      <td>522</td>\n",
       "    </tr>\n",
       "    <tr>\n",
       "      <th>6640</th>\n",
       "      <td>BUGATTI</td>\n",
       "      <td>TWO-SEATER</td>\n",
       "      <td>8.0</td>\n",
       "      <td>16</td>\n",
       "      <td>Z</td>\n",
       "      <td>22.2</td>\n",
       "      <td>522</td>\n",
       "    </tr>\n",
       "    <tr>\n",
       "      <th>4509</th>\n",
       "      <td>BUGATTI</td>\n",
       "      <td>TWO-SEATER</td>\n",
       "      <td>8.0</td>\n",
       "      <td>16</td>\n",
       "      <td>Z</td>\n",
       "      <td>22.2</td>\n",
       "      <td>522</td>\n",
       "    </tr>\n",
       "  </tbody>\n",
       "</table>\n",
       "</div>"
      ],
      "text/plain": [
       "               Make    Vehicle Class  Engine Size(L)  Cylinders Fuel Type  \\\n",
       "5126  MERCEDES-BENZ   SUV - STANDARD             6.0         12         Z   \n",
       "2971  MERCEDES-BENZ   SUV - STANDARD             6.0         12         Z   \n",
       "7058    LAMBORGHINI       TWO-SEATER             6.5         12         Z   \n",
       "6045    LAMBORGHINI       TWO-SEATER             6.5         12         Z   \n",
       "349            FORD  VAN - PASSENGER             6.8         10         X   \n",
       "6046    LAMBORGHINI       TWO-SEATER             6.5         12         Z   \n",
       "7059    LAMBORGHINI       TWO-SEATER             6.5         12         Z   \n",
       "5575        BUGATTI       TWO-SEATER             8.0         16         Z   \n",
       "6640        BUGATTI       TWO-SEATER             8.0         16         Z   \n",
       "4509        BUGATTI       TWO-SEATER             8.0         16         Z   \n",
       "\n",
       "      Fuel Consumption Comb  CO2 Emissions(g/km)  \n",
       "5126                   20.3                  473  \n",
       "2971                   21.4                  476  \n",
       "7058                   21.4                  485  \n",
       "6045                   21.5                  487  \n",
       "349                    21.2                  488  \n",
       "6046                   21.7                  493  \n",
       "7059                   21.7                  493  \n",
       "5575                   22.2                  522  \n",
       "6640                   22.2                  522  \n",
       "4509                   22.2                  522  "
      ]
     },
     "execution_count": 5,
     "metadata": {},
     "output_type": "execute_result"
    }
   ],
   "source": [
    "\n",
    "df=df.drop(\"Fuel Consumption Hwy\",axis='columns')\n",
    "df=df.drop(\"Fuel Consumption City\",axis='columns')\n",
    "df=df.drop(\"Transmission\",axis='columns')\n",
    "df=df.drop(\"Model\",axis='columns')\n",
    "\n",
    "df.tail(10)\n"
   ]
  },
  {
   "cell_type": "markdown",
   "id": "aae78609",
   "metadata": {},
   "source": [
    "# Categorical Encoding :"
   ]
  },
  {
   "cell_type": "markdown",
   "id": "b61155af",
   "metadata": {},
   "source": [
    "# the reason we need to convert categorical columns to numerical columns so that a machine learning algorithm understands it. This process is called categorical encoding"
   ]
  },
  {
   "cell_type": "code",
   "execution_count": 6,
   "id": "8644b49b",
   "metadata": {},
   "outputs": [],
   "source": [
    "df['Make_Type'] = df['Make'].replace(['BUGATTI', 'PORSCHE', 'MASERATI', 'ASTON MARTIN', 'LAMBORGHINI', 'JAGUAR','SRT'], 'Sports')\n",
    "df['Make_Type'] = df['Make_Type'].replace(['ALFA ROMEO', 'AUDI', 'BMW', 'BUICK', 'CADILLAC', 'CHRYSLER', 'DODGE', 'GMC','INFINITI', 'JEEP', 'LAND ROVER', 'LEXUS', 'MERCEDES-BENZ','MINI', 'SMART', 'VOLVO'],'Premium')\n",
    "df['Make_Type'] = df['Make_Type'].replace(['ACURA', 'BENTLEY', 'LINCOLN', 'ROLLS-ROYCE',  'GENESIS'], 'Luxury')\n",
    "df['Make_Type'] = df['Make_Type'].replace(['CHEVROLET', 'FIAT', 'FORD', 'KIA', 'HONDA', 'HYUNDAI', 'MAZDA', 'MITSUBISHI','NISSAN', 'RAM', 'SCION', 'SUBARU', 'TOYOTA','VOLKSWAGEN'],'General')\n",
    "df['Vehicle_Class_Type'] = df['Vehicle Class'].replace(['COMPACT', 'MINICOMPACT', 'SUBCOMPACT'], 'Hatchback')\n",
    "df['Vehicle_Class_Type'] = df['Vehicle_Class_Type'].replace(['MID-SIZE', 'TWO-SEATER', 'FULL-SIZE', 'STATION WAGON - SMALL', 'STATION WAGON - MID-SIZE'],'Sedan')\n",
    "df['Vehicle_Class_Type'] = df['Vehicle_Class_Type'].replace(['SUV - SMALL', 'SUV - STANDARD', 'MINIVAN'],  'SUV')\n",
    "df['Vehicle_Class_Type'] = df['Vehicle_Class_Type'].replace(['VAN - CARGO', 'VAN - PASSENGER', 'PICKUP TRUCK - STANDARD', 'SPECIAL PURPOSE VEHICLE', 'PICKUP TRUCK - SMALL'], 'Truck')"
   ]
  },
  {
   "cell_type": "code",
   "execution_count": 7,
   "id": "69f84116",
   "metadata": {},
   "outputs": [],
   "source": [
    "df.drop(['Make','Vehicle Class'], inplace=True, axis=1)\n",
    "df.rename(columns = {'Make_Type':'Make','Vehicle_Class_Type':\"Vehicle Class\"}, inplace = True)"
   ]
  },
  {
   "cell_type": "code",
   "execution_count": 8,
   "id": "2e0f6dc5",
   "metadata": {},
   "outputs": [
    {
     "data": {
      "text/html": [
       "<div>\n",
       "<style scoped>\n",
       "    .dataframe tbody tr th:only-of-type {\n",
       "        vertical-align: middle;\n",
       "    }\n",
       "\n",
       "    .dataframe tbody tr th {\n",
       "        vertical-align: top;\n",
       "    }\n",
       "\n",
       "    .dataframe thead th {\n",
       "        text-align: right;\n",
       "    }\n",
       "</style>\n",
       "<table border=\"1\" class=\"dataframe\">\n",
       "  <thead>\n",
       "    <tr style=\"text-align: right;\">\n",
       "      <th></th>\n",
       "      <th>Engine Size(L)</th>\n",
       "      <th>Cylinders</th>\n",
       "      <th>Fuel Type</th>\n",
       "      <th>Fuel Consumption Comb</th>\n",
       "      <th>CO2 Emissions(g/km)</th>\n",
       "      <th>Make</th>\n",
       "      <th>Vehicle Class</th>\n",
       "    </tr>\n",
       "  </thead>\n",
       "  <tbody>\n",
       "    <tr>\n",
       "      <th>5931</th>\n",
       "      <td>1.6</td>\n",
       "      <td>4</td>\n",
       "      <td>X</td>\n",
       "      <td>4.1</td>\n",
       "      <td>96</td>\n",
       "      <td>General</td>\n",
       "      <td>Sedan</td>\n",
       "    </tr>\n",
       "    <tr>\n",
       "      <th>6950</th>\n",
       "      <td>1.6</td>\n",
       "      <td>4</td>\n",
       "      <td>X</td>\n",
       "      <td>4.1</td>\n",
       "      <td>96</td>\n",
       "      <td>General</td>\n",
       "      <td>Sedan</td>\n",
       "    </tr>\n",
       "    <tr>\n",
       "      <th>3824</th>\n",
       "      <td>1.6</td>\n",
       "      <td>4</td>\n",
       "      <td>X</td>\n",
       "      <td>4.1</td>\n",
       "      <td>96</td>\n",
       "      <td>General</td>\n",
       "      <td>Sedan</td>\n",
       "    </tr>\n",
       "    <tr>\n",
       "      <th>4900</th>\n",
       "      <td>1.6</td>\n",
       "      <td>4</td>\n",
       "      <td>X</td>\n",
       "      <td>4.1</td>\n",
       "      <td>96</td>\n",
       "      <td>General</td>\n",
       "      <td>Sedan</td>\n",
       "    </tr>\n",
       "    <tr>\n",
       "      <th>6949</th>\n",
       "      <td>1.6</td>\n",
       "      <td>4</td>\n",
       "      <td>X</td>\n",
       "      <td>4.2</td>\n",
       "      <td>99</td>\n",
       "      <td>General</td>\n",
       "      <td>Sedan</td>\n",
       "    </tr>\n",
       "    <tr>\n",
       "      <th>...</th>\n",
       "      <td>...</td>\n",
       "      <td>...</td>\n",
       "      <td>...</td>\n",
       "      <td>...</td>\n",
       "      <td>...</td>\n",
       "      <td>...</td>\n",
       "      <td>...</td>\n",
       "    </tr>\n",
       "    <tr>\n",
       "      <th>6046</th>\n",
       "      <td>6.5</td>\n",
       "      <td>12</td>\n",
       "      <td>Z</td>\n",
       "      <td>21.7</td>\n",
       "      <td>493</td>\n",
       "      <td>Sports</td>\n",
       "      <td>Sedan</td>\n",
       "    </tr>\n",
       "    <tr>\n",
       "      <th>7059</th>\n",
       "      <td>6.5</td>\n",
       "      <td>12</td>\n",
       "      <td>Z</td>\n",
       "      <td>21.7</td>\n",
       "      <td>493</td>\n",
       "      <td>Sports</td>\n",
       "      <td>Sedan</td>\n",
       "    </tr>\n",
       "    <tr>\n",
       "      <th>5575</th>\n",
       "      <td>8.0</td>\n",
       "      <td>16</td>\n",
       "      <td>Z</td>\n",
       "      <td>22.2</td>\n",
       "      <td>522</td>\n",
       "      <td>Sports</td>\n",
       "      <td>Sedan</td>\n",
       "    </tr>\n",
       "    <tr>\n",
       "      <th>6640</th>\n",
       "      <td>8.0</td>\n",
       "      <td>16</td>\n",
       "      <td>Z</td>\n",
       "      <td>22.2</td>\n",
       "      <td>522</td>\n",
       "      <td>Sports</td>\n",
       "      <td>Sedan</td>\n",
       "    </tr>\n",
       "    <tr>\n",
       "      <th>4509</th>\n",
       "      <td>8.0</td>\n",
       "      <td>16</td>\n",
       "      <td>Z</td>\n",
       "      <td>22.2</td>\n",
       "      <td>522</td>\n",
       "      <td>Sports</td>\n",
       "      <td>Sedan</td>\n",
       "    </tr>\n",
       "  </tbody>\n",
       "</table>\n",
       "<p>7385 rows × 7 columns</p>\n",
       "</div>"
      ],
      "text/plain": [
       "      Engine Size(L)  Cylinders Fuel Type  Fuel Consumption Comb  \\\n",
       "5931             1.6          4         X                    4.1   \n",
       "6950             1.6          4         X                    4.1   \n",
       "3824             1.6          4         X                    4.1   \n",
       "4900             1.6          4         X                    4.1   \n",
       "6949             1.6          4         X                    4.2   \n",
       "...              ...        ...       ...                    ...   \n",
       "6046             6.5         12         Z                   21.7   \n",
       "7059             6.5         12         Z                   21.7   \n",
       "5575             8.0         16         Z                   22.2   \n",
       "6640             8.0         16         Z                   22.2   \n",
       "4509             8.0         16         Z                   22.2   \n",
       "\n",
       "      CO2 Emissions(g/km)     Make Vehicle Class  \n",
       "5931                   96  General         Sedan  \n",
       "6950                   96  General         Sedan  \n",
       "3824                   96  General         Sedan  \n",
       "4900                   96  General         Sedan  \n",
       "6949                   99  General         Sedan  \n",
       "...                   ...      ...           ...  \n",
       "6046                  493   Sports         Sedan  \n",
       "7059                  493   Sports         Sedan  \n",
       "5575                  522   Sports         Sedan  \n",
       "6640                  522   Sports         Sedan  \n",
       "4509                  522   Sports         Sedan  \n",
       "\n",
       "[7385 rows x 7 columns]"
      ]
     },
     "execution_count": 8,
     "metadata": {},
     "output_type": "execute_result"
    }
   ],
   "source": [
    "df"
   ]
  },
  {
   "cell_type": "code",
   "execution_count": 9,
   "id": "963dfc7e",
   "metadata": {},
   "outputs": [],
   "source": [
    "#Categorical Dummy Encoding\n",
    "df_dummies = pd.get_dummies(df[[\"Fuel Type\",\"Make\",\"Vehicle Class\"]])\n",
    "df_num_features=df.select_dtypes(include=np.number)\n",
    "\n",
    "df_comb = pd.concat([df_num_features, df_dummies], axis = 1)"
   ]
  },
  {
   "cell_type": "code",
   "execution_count": 10,
   "id": "a6a7421c",
   "metadata": {},
   "outputs": [],
   "source": [
    "df=df_comb\n",
    "df.tail(10)\n",
    "df.to_csv(r'C:\\Users\\Zbook\\Downloads\\HomeC_edited2.csv')"
   ]
  },
  {
   "cell_type": "markdown",
   "id": "61a9e951",
   "metadata": {},
   "source": [
    "## Histograms For Better Understanding "
   ]
  },
  {
   "cell_type": "code",
   "execution_count": 11,
   "id": "9edc9bd2",
   "metadata": {},
   "outputs": [
    {
     "data": {
      "text/plain": [
       "array([[<AxesSubplot:title={'center':'Engine Size(L)'}>,\n",
       "        <AxesSubplot:title={'center':'Cylinders'}>,\n",
       "        <AxesSubplot:title={'center':'Fuel Consumption Comb'}>,\n",
       "        <AxesSubplot:title={'center':'CO2 Emissions(g/km)'}>],\n",
       "       [<AxesSubplot:title={'center':'Fuel Type_D'}>,\n",
       "        <AxesSubplot:title={'center':'Fuel Type_E'}>,\n",
       "        <AxesSubplot:title={'center':'Fuel Type_N'}>,\n",
       "        <AxesSubplot:title={'center':'Fuel Type_X'}>],\n",
       "       [<AxesSubplot:title={'center':'Fuel Type_Z'}>,\n",
       "        <AxesSubplot:title={'center':'Make_General'}>,\n",
       "        <AxesSubplot:title={'center':'Make_Luxury'}>,\n",
       "        <AxesSubplot:title={'center':'Make_Premium'}>],\n",
       "       [<AxesSubplot:title={'center':'Make_Sports'}>,\n",
       "        <AxesSubplot:title={'center':'Vehicle Class_Hatchback'}>,\n",
       "        <AxesSubplot:title={'center':'Vehicle Class_SUV'}>,\n",
       "        <AxesSubplot:title={'center':'Vehicle Class_Sedan'}>],\n",
       "       [<AxesSubplot:title={'center':'Vehicle Class_Truck'}>,\n",
       "        <AxesSubplot:>, <AxesSubplot:>, <AxesSubplot:>]], dtype=object)"
      ]
     },
     "execution_count": 11,
     "metadata": {},
     "output_type": "execute_result"
    },
    {
     "name": "stdout",
     "output_type": "stream",
     "text": [
      "Error in callback <function flush_figures at 0x000002CBE2772DC0> (for post_execute):\n"
     ]
    },
    {
     "ename": "KeyboardInterrupt",
     "evalue": "",
     "output_type": "error",
     "traceback": [
      "\u001b[1;31m---------------------------------------------------------------------------\u001b[0m",
      "\u001b[1;31mKeyboardInterrupt\u001b[0m                         Traceback (most recent call last)",
      "\u001b[1;32mE:\\Anaconda folder\\lib\\site-packages\\matplotlib_inline\\backend_inline.py\u001b[0m in \u001b[0;36mflush_figures\u001b[1;34m()\u001b[0m\n\u001b[0;32m    124\u001b[0m             \u001b[1;31m# ignore the tracking, just draw and close all figures\u001b[0m\u001b[1;33m\u001b[0m\u001b[1;33m\u001b[0m\u001b[0m\n\u001b[0;32m    125\u001b[0m             \u001b[1;32mtry\u001b[0m\u001b[1;33m:\u001b[0m\u001b[1;33m\u001b[0m\u001b[1;33m\u001b[0m\u001b[0m\n\u001b[1;32m--> 126\u001b[1;33m                 \u001b[1;32mreturn\u001b[0m \u001b[0mshow\u001b[0m\u001b[1;33m(\u001b[0m\u001b[1;32mTrue\u001b[0m\u001b[1;33m)\u001b[0m\u001b[1;33m\u001b[0m\u001b[1;33m\u001b[0m\u001b[0m\n\u001b[0m\u001b[0;32m    127\u001b[0m             \u001b[1;32mexcept\u001b[0m \u001b[0mException\u001b[0m \u001b[1;32mas\u001b[0m \u001b[0me\u001b[0m\u001b[1;33m:\u001b[0m\u001b[1;33m\u001b[0m\u001b[1;33m\u001b[0m\u001b[0m\n\u001b[0;32m    128\u001b[0m                 \u001b[1;31m# safely show traceback if in IPython, else raise\u001b[0m\u001b[1;33m\u001b[0m\u001b[1;33m\u001b[0m\u001b[0m\n",
      "\u001b[1;32mE:\\Anaconda folder\\lib\\site-packages\\matplotlib_inline\\backend_inline.py\u001b[0m in \u001b[0;36mshow\u001b[1;34m(close, block)\u001b[0m\n\u001b[0;32m     88\u001b[0m     \u001b[1;32mtry\u001b[0m\u001b[1;33m:\u001b[0m\u001b[1;33m\u001b[0m\u001b[1;33m\u001b[0m\u001b[0m\n\u001b[0;32m     89\u001b[0m         \u001b[1;32mfor\u001b[0m \u001b[0mfigure_manager\u001b[0m \u001b[1;32min\u001b[0m \u001b[0mGcf\u001b[0m\u001b[1;33m.\u001b[0m\u001b[0mget_all_fig_managers\u001b[0m\u001b[1;33m(\u001b[0m\u001b[1;33m)\u001b[0m\u001b[1;33m:\u001b[0m\u001b[1;33m\u001b[0m\u001b[1;33m\u001b[0m\u001b[0m\n\u001b[1;32m---> 90\u001b[1;33m             display(\n\u001b[0m\u001b[0;32m     91\u001b[0m                 \u001b[0mfigure_manager\u001b[0m\u001b[1;33m.\u001b[0m\u001b[0mcanvas\u001b[0m\u001b[1;33m.\u001b[0m\u001b[0mfigure\u001b[0m\u001b[1;33m,\u001b[0m\u001b[1;33m\u001b[0m\u001b[1;33m\u001b[0m\u001b[0m\n\u001b[0;32m     92\u001b[0m                 \u001b[0mmetadata\u001b[0m\u001b[1;33m=\u001b[0m\u001b[0m_fetch_figure_metadata\u001b[0m\u001b[1;33m(\u001b[0m\u001b[0mfigure_manager\u001b[0m\u001b[1;33m.\u001b[0m\u001b[0mcanvas\u001b[0m\u001b[1;33m.\u001b[0m\u001b[0mfigure\u001b[0m\u001b[1;33m)\u001b[0m\u001b[1;33m\u001b[0m\u001b[1;33m\u001b[0m\u001b[0m\n",
      "\u001b[1;32mE:\\Anaconda folder\\lib\\site-packages\\IPython\\core\\display.py\u001b[0m in \u001b[0;36mdisplay\u001b[1;34m(include, exclude, metadata, transient, display_id, *objs, **kwargs)\u001b[0m\n\u001b[0;32m    318\u001b[0m             \u001b[0mpublish_display_data\u001b[0m\u001b[1;33m(\u001b[0m\u001b[0mdata\u001b[0m\u001b[1;33m=\u001b[0m\u001b[0mobj\u001b[0m\u001b[1;33m,\u001b[0m \u001b[0mmetadata\u001b[0m\u001b[1;33m=\u001b[0m\u001b[0mmetadata\u001b[0m\u001b[1;33m,\u001b[0m \u001b[1;33m**\u001b[0m\u001b[0mkwargs\u001b[0m\u001b[1;33m)\u001b[0m\u001b[1;33m\u001b[0m\u001b[1;33m\u001b[0m\u001b[0m\n\u001b[0;32m    319\u001b[0m         \u001b[1;32melse\u001b[0m\u001b[1;33m:\u001b[0m\u001b[1;33m\u001b[0m\u001b[1;33m\u001b[0m\u001b[0m\n\u001b[1;32m--> 320\u001b[1;33m             \u001b[0mformat_dict\u001b[0m\u001b[1;33m,\u001b[0m \u001b[0mmd_dict\u001b[0m \u001b[1;33m=\u001b[0m \u001b[0mformat\u001b[0m\u001b[1;33m(\u001b[0m\u001b[0mobj\u001b[0m\u001b[1;33m,\u001b[0m \u001b[0minclude\u001b[0m\u001b[1;33m=\u001b[0m\u001b[0minclude\u001b[0m\u001b[1;33m,\u001b[0m \u001b[0mexclude\u001b[0m\u001b[1;33m=\u001b[0m\u001b[0mexclude\u001b[0m\u001b[1;33m)\u001b[0m\u001b[1;33m\u001b[0m\u001b[1;33m\u001b[0m\u001b[0m\n\u001b[0m\u001b[0;32m    321\u001b[0m             \u001b[1;32mif\u001b[0m \u001b[1;32mnot\u001b[0m \u001b[0mformat_dict\u001b[0m\u001b[1;33m:\u001b[0m\u001b[1;33m\u001b[0m\u001b[1;33m\u001b[0m\u001b[0m\n\u001b[0;32m    322\u001b[0m                 \u001b[1;31m# nothing to display (e.g. _ipython_display_ took over)\u001b[0m\u001b[1;33m\u001b[0m\u001b[1;33m\u001b[0m\u001b[0m\n",
      "\u001b[1;32mE:\\Anaconda folder\\lib\\site-packages\\IPython\\core\\formatters.py\u001b[0m in \u001b[0;36mformat\u001b[1;34m(self, obj, include, exclude)\u001b[0m\n\u001b[0;32m    178\u001b[0m             \u001b[0mmd\u001b[0m \u001b[1;33m=\u001b[0m \u001b[1;32mNone\u001b[0m\u001b[1;33m\u001b[0m\u001b[1;33m\u001b[0m\u001b[0m\n\u001b[0;32m    179\u001b[0m             \u001b[1;32mtry\u001b[0m\u001b[1;33m:\u001b[0m\u001b[1;33m\u001b[0m\u001b[1;33m\u001b[0m\u001b[0m\n\u001b[1;32m--> 180\u001b[1;33m                 \u001b[0mdata\u001b[0m \u001b[1;33m=\u001b[0m \u001b[0mformatter\u001b[0m\u001b[1;33m(\u001b[0m\u001b[0mobj\u001b[0m\u001b[1;33m)\u001b[0m\u001b[1;33m\u001b[0m\u001b[1;33m\u001b[0m\u001b[0m\n\u001b[0m\u001b[0;32m    181\u001b[0m             \u001b[1;32mexcept\u001b[0m\u001b[1;33m:\u001b[0m\u001b[1;33m\u001b[0m\u001b[1;33m\u001b[0m\u001b[0m\n\u001b[0;32m    182\u001b[0m                 \u001b[1;31m# FIXME: log the exception\u001b[0m\u001b[1;33m\u001b[0m\u001b[1;33m\u001b[0m\u001b[0m\n",
      "\u001b[1;32mE:\\Anaconda folder\\lib\\site-packages\\decorator.py\u001b[0m in \u001b[0;36mfun\u001b[1;34m(*args, **kw)\u001b[0m\n\u001b[0;32m    230\u001b[0m             \u001b[1;32mif\u001b[0m \u001b[1;32mnot\u001b[0m \u001b[0mkwsyntax\u001b[0m\u001b[1;33m:\u001b[0m\u001b[1;33m\u001b[0m\u001b[1;33m\u001b[0m\u001b[0m\n\u001b[0;32m    231\u001b[0m                 \u001b[0margs\u001b[0m\u001b[1;33m,\u001b[0m \u001b[0mkw\u001b[0m \u001b[1;33m=\u001b[0m \u001b[0mfix\u001b[0m\u001b[1;33m(\u001b[0m\u001b[0margs\u001b[0m\u001b[1;33m,\u001b[0m \u001b[0mkw\u001b[0m\u001b[1;33m,\u001b[0m \u001b[0msig\u001b[0m\u001b[1;33m)\u001b[0m\u001b[1;33m\u001b[0m\u001b[1;33m\u001b[0m\u001b[0m\n\u001b[1;32m--> 232\u001b[1;33m             \u001b[1;32mreturn\u001b[0m \u001b[0mcaller\u001b[0m\u001b[1;33m(\u001b[0m\u001b[0mfunc\u001b[0m\u001b[1;33m,\u001b[0m \u001b[1;33m*\u001b[0m\u001b[1;33m(\u001b[0m\u001b[0mextras\u001b[0m \u001b[1;33m+\u001b[0m \u001b[0margs\u001b[0m\u001b[1;33m)\u001b[0m\u001b[1;33m,\u001b[0m \u001b[1;33m**\u001b[0m\u001b[0mkw\u001b[0m\u001b[1;33m)\u001b[0m\u001b[1;33m\u001b[0m\u001b[1;33m\u001b[0m\u001b[0m\n\u001b[0m\u001b[0;32m    233\u001b[0m     \u001b[0mfun\u001b[0m\u001b[1;33m.\u001b[0m\u001b[0m__name__\u001b[0m \u001b[1;33m=\u001b[0m \u001b[0mfunc\u001b[0m\u001b[1;33m.\u001b[0m\u001b[0m__name__\u001b[0m\u001b[1;33m\u001b[0m\u001b[1;33m\u001b[0m\u001b[0m\n\u001b[0;32m    234\u001b[0m     \u001b[0mfun\u001b[0m\u001b[1;33m.\u001b[0m\u001b[0m__doc__\u001b[0m \u001b[1;33m=\u001b[0m \u001b[0mfunc\u001b[0m\u001b[1;33m.\u001b[0m\u001b[0m__doc__\u001b[0m\u001b[1;33m\u001b[0m\u001b[1;33m\u001b[0m\u001b[0m\n",
      "\u001b[1;32mE:\\Anaconda folder\\lib\\site-packages\\IPython\\core\\formatters.py\u001b[0m in \u001b[0;36mcatch_format_error\u001b[1;34m(method, self, *args, **kwargs)\u001b[0m\n\u001b[0;32m    222\u001b[0m     \u001b[1;34m\"\"\"show traceback on failed format call\"\"\"\u001b[0m\u001b[1;33m\u001b[0m\u001b[1;33m\u001b[0m\u001b[0m\n\u001b[0;32m    223\u001b[0m     \u001b[1;32mtry\u001b[0m\u001b[1;33m:\u001b[0m\u001b[1;33m\u001b[0m\u001b[1;33m\u001b[0m\u001b[0m\n\u001b[1;32m--> 224\u001b[1;33m         \u001b[0mr\u001b[0m \u001b[1;33m=\u001b[0m \u001b[0mmethod\u001b[0m\u001b[1;33m(\u001b[0m\u001b[0mself\u001b[0m\u001b[1;33m,\u001b[0m \u001b[1;33m*\u001b[0m\u001b[0margs\u001b[0m\u001b[1;33m,\u001b[0m \u001b[1;33m**\u001b[0m\u001b[0mkwargs\u001b[0m\u001b[1;33m)\u001b[0m\u001b[1;33m\u001b[0m\u001b[1;33m\u001b[0m\u001b[0m\n\u001b[0m\u001b[0;32m    225\u001b[0m     \u001b[1;32mexcept\u001b[0m \u001b[0mNotImplementedError\u001b[0m\u001b[1;33m:\u001b[0m\u001b[1;33m\u001b[0m\u001b[1;33m\u001b[0m\u001b[0m\n\u001b[0;32m    226\u001b[0m         \u001b[1;31m# don't warn on NotImplementedErrors\u001b[0m\u001b[1;33m\u001b[0m\u001b[1;33m\u001b[0m\u001b[0m\n",
      "\u001b[1;32mE:\\Anaconda folder\\lib\\site-packages\\IPython\\core\\formatters.py\u001b[0m in \u001b[0;36m__call__\u001b[1;34m(self, obj)\u001b[0m\n\u001b[0;32m    339\u001b[0m                 \u001b[1;32mpass\u001b[0m\u001b[1;33m\u001b[0m\u001b[1;33m\u001b[0m\u001b[0m\n\u001b[0;32m    340\u001b[0m             \u001b[1;32melse\u001b[0m\u001b[1;33m:\u001b[0m\u001b[1;33m\u001b[0m\u001b[1;33m\u001b[0m\u001b[0m\n\u001b[1;32m--> 341\u001b[1;33m                 \u001b[1;32mreturn\u001b[0m \u001b[0mprinter\u001b[0m\u001b[1;33m(\u001b[0m\u001b[0mobj\u001b[0m\u001b[1;33m)\u001b[0m\u001b[1;33m\u001b[0m\u001b[1;33m\u001b[0m\u001b[0m\n\u001b[0m\u001b[0;32m    342\u001b[0m             \u001b[1;31m# Finally look for special method names\u001b[0m\u001b[1;33m\u001b[0m\u001b[1;33m\u001b[0m\u001b[0m\n\u001b[0;32m    343\u001b[0m             \u001b[0mmethod\u001b[0m \u001b[1;33m=\u001b[0m \u001b[0mget_real_method\u001b[0m\u001b[1;33m(\u001b[0m\u001b[0mobj\u001b[0m\u001b[1;33m,\u001b[0m \u001b[0mself\u001b[0m\u001b[1;33m.\u001b[0m\u001b[0mprint_method\u001b[0m\u001b[1;33m)\u001b[0m\u001b[1;33m\u001b[0m\u001b[1;33m\u001b[0m\u001b[0m\n",
      "\u001b[1;32mE:\\Anaconda folder\\lib\\site-packages\\IPython\\core\\pylabtools.py\u001b[0m in \u001b[0;36mprint_figure\u001b[1;34m(fig, fmt, bbox_inches, base64, **kwargs)\u001b[0m\n\u001b[0;32m    149\u001b[0m         \u001b[0mFigureCanvasBase\u001b[0m\u001b[1;33m(\u001b[0m\u001b[0mfig\u001b[0m\u001b[1;33m)\u001b[0m\u001b[1;33m\u001b[0m\u001b[1;33m\u001b[0m\u001b[0m\n\u001b[0;32m    150\u001b[0m \u001b[1;33m\u001b[0m\u001b[0m\n\u001b[1;32m--> 151\u001b[1;33m     \u001b[0mfig\u001b[0m\u001b[1;33m.\u001b[0m\u001b[0mcanvas\u001b[0m\u001b[1;33m.\u001b[0m\u001b[0mprint_figure\u001b[0m\u001b[1;33m(\u001b[0m\u001b[0mbytes_io\u001b[0m\u001b[1;33m,\u001b[0m \u001b[1;33m**\u001b[0m\u001b[0mkw\u001b[0m\u001b[1;33m)\u001b[0m\u001b[1;33m\u001b[0m\u001b[1;33m\u001b[0m\u001b[0m\n\u001b[0m\u001b[0;32m    152\u001b[0m     \u001b[0mdata\u001b[0m \u001b[1;33m=\u001b[0m \u001b[0mbytes_io\u001b[0m\u001b[1;33m.\u001b[0m\u001b[0mgetvalue\u001b[0m\u001b[1;33m(\u001b[0m\u001b[1;33m)\u001b[0m\u001b[1;33m\u001b[0m\u001b[1;33m\u001b[0m\u001b[0m\n\u001b[0;32m    153\u001b[0m     \u001b[1;32mif\u001b[0m \u001b[0mfmt\u001b[0m \u001b[1;33m==\u001b[0m \u001b[1;34m'svg'\u001b[0m\u001b[1;33m:\u001b[0m\u001b[1;33m\u001b[0m\u001b[1;33m\u001b[0m\u001b[0m\n",
      "\u001b[1;32mE:\\Anaconda folder\\lib\\site-packages\\matplotlib\\backend_bases.py\u001b[0m in \u001b[0;36mprint_figure\u001b[1;34m(self, filename, dpi, facecolor, edgecolor, orientation, format, bbox_inches, pad_inches, bbox_extra_artists, backend, **kwargs)\u001b[0m\n\u001b[0;32m   2293\u001b[0m                 )\n\u001b[0;32m   2294\u001b[0m                 \u001b[1;32mwith\u001b[0m \u001b[0mgetattr\u001b[0m\u001b[1;33m(\u001b[0m\u001b[0mrenderer\u001b[0m\u001b[1;33m,\u001b[0m \u001b[1;34m\"_draw_disabled\"\u001b[0m\u001b[1;33m,\u001b[0m \u001b[0mnullcontext\u001b[0m\u001b[1;33m)\u001b[0m\u001b[1;33m(\u001b[0m\u001b[1;33m)\u001b[0m\u001b[1;33m:\u001b[0m\u001b[1;33m\u001b[0m\u001b[1;33m\u001b[0m\u001b[0m\n\u001b[1;32m-> 2295\u001b[1;33m                     \u001b[0mself\u001b[0m\u001b[1;33m.\u001b[0m\u001b[0mfigure\u001b[0m\u001b[1;33m.\u001b[0m\u001b[0mdraw\u001b[0m\u001b[1;33m(\u001b[0m\u001b[0mrenderer\u001b[0m\u001b[1;33m)\u001b[0m\u001b[1;33m\u001b[0m\u001b[1;33m\u001b[0m\u001b[0m\n\u001b[0m\u001b[0;32m   2296\u001b[0m \u001b[1;33m\u001b[0m\u001b[0m\n\u001b[0;32m   2297\u001b[0m             \u001b[1;32mif\u001b[0m \u001b[0mbbox_inches\u001b[0m\u001b[1;33m:\u001b[0m\u001b[1;33m\u001b[0m\u001b[1;33m\u001b[0m\u001b[0m\n",
      "\u001b[1;32mE:\\Anaconda folder\\lib\\site-packages\\matplotlib\\artist.py\u001b[0m in \u001b[0;36mdraw_wrapper\u001b[1;34m(artist, renderer, *args, **kwargs)\u001b[0m\n\u001b[0;32m     71\u001b[0m     \u001b[1;33m@\u001b[0m\u001b[0mwraps\u001b[0m\u001b[1;33m(\u001b[0m\u001b[0mdraw\u001b[0m\u001b[1;33m)\u001b[0m\u001b[1;33m\u001b[0m\u001b[1;33m\u001b[0m\u001b[0m\n\u001b[0;32m     72\u001b[0m     \u001b[1;32mdef\u001b[0m \u001b[0mdraw_wrapper\u001b[0m\u001b[1;33m(\u001b[0m\u001b[0martist\u001b[0m\u001b[1;33m,\u001b[0m \u001b[0mrenderer\u001b[0m\u001b[1;33m,\u001b[0m \u001b[1;33m*\u001b[0m\u001b[0margs\u001b[0m\u001b[1;33m,\u001b[0m \u001b[1;33m**\u001b[0m\u001b[0mkwargs\u001b[0m\u001b[1;33m)\u001b[0m\u001b[1;33m:\u001b[0m\u001b[1;33m\u001b[0m\u001b[1;33m\u001b[0m\u001b[0m\n\u001b[1;32m---> 73\u001b[1;33m         \u001b[0mresult\u001b[0m \u001b[1;33m=\u001b[0m \u001b[0mdraw\u001b[0m\u001b[1;33m(\u001b[0m\u001b[0martist\u001b[0m\u001b[1;33m,\u001b[0m \u001b[0mrenderer\u001b[0m\u001b[1;33m,\u001b[0m \u001b[1;33m*\u001b[0m\u001b[0margs\u001b[0m\u001b[1;33m,\u001b[0m \u001b[1;33m**\u001b[0m\u001b[0mkwargs\u001b[0m\u001b[1;33m)\u001b[0m\u001b[1;33m\u001b[0m\u001b[1;33m\u001b[0m\u001b[0m\n\u001b[0m\u001b[0;32m     74\u001b[0m         \u001b[1;32mif\u001b[0m \u001b[0mrenderer\u001b[0m\u001b[1;33m.\u001b[0m\u001b[0m_rasterizing\u001b[0m\u001b[1;33m:\u001b[0m\u001b[1;33m\u001b[0m\u001b[1;33m\u001b[0m\u001b[0m\n\u001b[0;32m     75\u001b[0m             \u001b[0mrenderer\u001b[0m\u001b[1;33m.\u001b[0m\u001b[0mstop_rasterizing\u001b[0m\u001b[1;33m(\u001b[0m\u001b[1;33m)\u001b[0m\u001b[1;33m\u001b[0m\u001b[1;33m\u001b[0m\u001b[0m\n",
      "\u001b[1;32mE:\\Anaconda folder\\lib\\site-packages\\matplotlib\\artist.py\u001b[0m in \u001b[0;36mdraw_wrapper\u001b[1;34m(artist, renderer)\u001b[0m\n\u001b[0;32m     48\u001b[0m                 \u001b[0mrenderer\u001b[0m\u001b[1;33m.\u001b[0m\u001b[0mstart_filter\u001b[0m\u001b[1;33m(\u001b[0m\u001b[1;33m)\u001b[0m\u001b[1;33m\u001b[0m\u001b[1;33m\u001b[0m\u001b[0m\n\u001b[0;32m     49\u001b[0m \u001b[1;33m\u001b[0m\u001b[0m\n\u001b[1;32m---> 50\u001b[1;33m             \u001b[1;32mreturn\u001b[0m \u001b[0mdraw\u001b[0m\u001b[1;33m(\u001b[0m\u001b[0martist\u001b[0m\u001b[1;33m,\u001b[0m \u001b[0mrenderer\u001b[0m\u001b[1;33m)\u001b[0m\u001b[1;33m\u001b[0m\u001b[1;33m\u001b[0m\u001b[0m\n\u001b[0m\u001b[0;32m     51\u001b[0m         \u001b[1;32mfinally\u001b[0m\u001b[1;33m:\u001b[0m\u001b[1;33m\u001b[0m\u001b[1;33m\u001b[0m\u001b[0m\n\u001b[0;32m     52\u001b[0m             \u001b[1;32mif\u001b[0m \u001b[0martist\u001b[0m\u001b[1;33m.\u001b[0m\u001b[0mget_agg_filter\u001b[0m\u001b[1;33m(\u001b[0m\u001b[1;33m)\u001b[0m \u001b[1;32mis\u001b[0m \u001b[1;32mnot\u001b[0m \u001b[1;32mNone\u001b[0m\u001b[1;33m:\u001b[0m\u001b[1;33m\u001b[0m\u001b[1;33m\u001b[0m\u001b[0m\n",
      "\u001b[1;32mE:\\Anaconda folder\\lib\\site-packages\\matplotlib\\figure.py\u001b[0m in \u001b[0;36mdraw\u001b[1;34m(self, renderer)\u001b[0m\n\u001b[0;32m   2835\u001b[0m \u001b[1;33m\u001b[0m\u001b[0m\n\u001b[0;32m   2836\u001b[0m             \u001b[0mself\u001b[0m\u001b[1;33m.\u001b[0m\u001b[0mpatch\u001b[0m\u001b[1;33m.\u001b[0m\u001b[0mdraw\u001b[0m\u001b[1;33m(\u001b[0m\u001b[0mrenderer\u001b[0m\u001b[1;33m)\u001b[0m\u001b[1;33m\u001b[0m\u001b[1;33m\u001b[0m\u001b[0m\n\u001b[1;32m-> 2837\u001b[1;33m             mimage._draw_list_compositing_images(\n\u001b[0m\u001b[0;32m   2838\u001b[0m                 renderer, self, artists, self.suppressComposite)\n\u001b[0;32m   2839\u001b[0m \u001b[1;33m\u001b[0m\u001b[0m\n",
      "\u001b[1;32mE:\\Anaconda folder\\lib\\site-packages\\matplotlib\\image.py\u001b[0m in \u001b[0;36m_draw_list_compositing_images\u001b[1;34m(renderer, parent, artists, suppress_composite)\u001b[0m\n\u001b[0;32m    130\u001b[0m     \u001b[1;32mif\u001b[0m \u001b[0mnot_composite\u001b[0m \u001b[1;32mor\u001b[0m \u001b[1;32mnot\u001b[0m \u001b[0mhas_images\u001b[0m\u001b[1;33m:\u001b[0m\u001b[1;33m\u001b[0m\u001b[1;33m\u001b[0m\u001b[0m\n\u001b[0;32m    131\u001b[0m         \u001b[1;32mfor\u001b[0m \u001b[0ma\u001b[0m \u001b[1;32min\u001b[0m \u001b[0martists\u001b[0m\u001b[1;33m:\u001b[0m\u001b[1;33m\u001b[0m\u001b[1;33m\u001b[0m\u001b[0m\n\u001b[1;32m--> 132\u001b[1;33m             \u001b[0ma\u001b[0m\u001b[1;33m.\u001b[0m\u001b[0mdraw\u001b[0m\u001b[1;33m(\u001b[0m\u001b[0mrenderer\u001b[0m\u001b[1;33m)\u001b[0m\u001b[1;33m\u001b[0m\u001b[1;33m\u001b[0m\u001b[0m\n\u001b[0m\u001b[0;32m    133\u001b[0m     \u001b[1;32melse\u001b[0m\u001b[1;33m:\u001b[0m\u001b[1;33m\u001b[0m\u001b[1;33m\u001b[0m\u001b[0m\n\u001b[0;32m    134\u001b[0m         \u001b[1;31m# Composite any adjacent images together\u001b[0m\u001b[1;33m\u001b[0m\u001b[1;33m\u001b[0m\u001b[0m\n",
      "\u001b[1;32mE:\\Anaconda folder\\lib\\site-packages\\matplotlib\\artist.py\u001b[0m in \u001b[0;36mdraw_wrapper\u001b[1;34m(artist, renderer)\u001b[0m\n\u001b[0;32m     48\u001b[0m                 \u001b[0mrenderer\u001b[0m\u001b[1;33m.\u001b[0m\u001b[0mstart_filter\u001b[0m\u001b[1;33m(\u001b[0m\u001b[1;33m)\u001b[0m\u001b[1;33m\u001b[0m\u001b[1;33m\u001b[0m\u001b[0m\n\u001b[0;32m     49\u001b[0m \u001b[1;33m\u001b[0m\u001b[0m\n\u001b[1;32m---> 50\u001b[1;33m             \u001b[1;32mreturn\u001b[0m \u001b[0mdraw\u001b[0m\u001b[1;33m(\u001b[0m\u001b[0martist\u001b[0m\u001b[1;33m,\u001b[0m \u001b[0mrenderer\u001b[0m\u001b[1;33m)\u001b[0m\u001b[1;33m\u001b[0m\u001b[1;33m\u001b[0m\u001b[0m\n\u001b[0m\u001b[0;32m     51\u001b[0m         \u001b[1;32mfinally\u001b[0m\u001b[1;33m:\u001b[0m\u001b[1;33m\u001b[0m\u001b[1;33m\u001b[0m\u001b[0m\n\u001b[0;32m     52\u001b[0m             \u001b[1;32mif\u001b[0m \u001b[0martist\u001b[0m\u001b[1;33m.\u001b[0m\u001b[0mget_agg_filter\u001b[0m\u001b[1;33m(\u001b[0m\u001b[1;33m)\u001b[0m \u001b[1;32mis\u001b[0m \u001b[1;32mnot\u001b[0m \u001b[1;32mNone\u001b[0m\u001b[1;33m:\u001b[0m\u001b[1;33m\u001b[0m\u001b[1;33m\u001b[0m\u001b[0m\n",
      "\u001b[1;32mE:\\Anaconda folder\\lib\\site-packages\\matplotlib\\axes\\_base.py\u001b[0m in \u001b[0;36mdraw\u001b[1;34m(self, renderer)\u001b[0m\n\u001b[0;32m   3089\u001b[0m             \u001b[0mrenderer\u001b[0m\u001b[1;33m.\u001b[0m\u001b[0mstop_rasterizing\u001b[0m\u001b[1;33m(\u001b[0m\u001b[1;33m)\u001b[0m\u001b[1;33m\u001b[0m\u001b[1;33m\u001b[0m\u001b[0m\n\u001b[0;32m   3090\u001b[0m \u001b[1;33m\u001b[0m\u001b[0m\n\u001b[1;32m-> 3091\u001b[1;33m         mimage._draw_list_compositing_images(\n\u001b[0m\u001b[0;32m   3092\u001b[0m             renderer, self, artists, self.figure.suppressComposite)\n\u001b[0;32m   3093\u001b[0m \u001b[1;33m\u001b[0m\u001b[0m\n",
      "\u001b[1;32mE:\\Anaconda folder\\lib\\site-packages\\matplotlib\\image.py\u001b[0m in \u001b[0;36m_draw_list_compositing_images\u001b[1;34m(renderer, parent, artists, suppress_composite)\u001b[0m\n\u001b[0;32m    130\u001b[0m     \u001b[1;32mif\u001b[0m \u001b[0mnot_composite\u001b[0m \u001b[1;32mor\u001b[0m \u001b[1;32mnot\u001b[0m \u001b[0mhas_images\u001b[0m\u001b[1;33m:\u001b[0m\u001b[1;33m\u001b[0m\u001b[1;33m\u001b[0m\u001b[0m\n\u001b[0;32m    131\u001b[0m         \u001b[1;32mfor\u001b[0m \u001b[0ma\u001b[0m \u001b[1;32min\u001b[0m \u001b[0martists\u001b[0m\u001b[1;33m:\u001b[0m\u001b[1;33m\u001b[0m\u001b[1;33m\u001b[0m\u001b[0m\n\u001b[1;32m--> 132\u001b[1;33m             \u001b[0ma\u001b[0m\u001b[1;33m.\u001b[0m\u001b[0mdraw\u001b[0m\u001b[1;33m(\u001b[0m\u001b[0mrenderer\u001b[0m\u001b[1;33m)\u001b[0m\u001b[1;33m\u001b[0m\u001b[1;33m\u001b[0m\u001b[0m\n\u001b[0m\u001b[0;32m    133\u001b[0m     \u001b[1;32melse\u001b[0m\u001b[1;33m:\u001b[0m\u001b[1;33m\u001b[0m\u001b[1;33m\u001b[0m\u001b[0m\n\u001b[0;32m    134\u001b[0m         \u001b[1;31m# Composite any adjacent images together\u001b[0m\u001b[1;33m\u001b[0m\u001b[1;33m\u001b[0m\u001b[0m\n",
      "\u001b[1;32mE:\\Anaconda folder\\lib\\site-packages\\matplotlib\\artist.py\u001b[0m in \u001b[0;36mdraw_wrapper\u001b[1;34m(artist, renderer)\u001b[0m\n\u001b[0;32m     48\u001b[0m                 \u001b[0mrenderer\u001b[0m\u001b[1;33m.\u001b[0m\u001b[0mstart_filter\u001b[0m\u001b[1;33m(\u001b[0m\u001b[1;33m)\u001b[0m\u001b[1;33m\u001b[0m\u001b[1;33m\u001b[0m\u001b[0m\n\u001b[0;32m     49\u001b[0m \u001b[1;33m\u001b[0m\u001b[0m\n\u001b[1;32m---> 50\u001b[1;33m             \u001b[1;32mreturn\u001b[0m \u001b[0mdraw\u001b[0m\u001b[1;33m(\u001b[0m\u001b[0martist\u001b[0m\u001b[1;33m,\u001b[0m \u001b[0mrenderer\u001b[0m\u001b[1;33m)\u001b[0m\u001b[1;33m\u001b[0m\u001b[1;33m\u001b[0m\u001b[0m\n\u001b[0m\u001b[0;32m     51\u001b[0m         \u001b[1;32mfinally\u001b[0m\u001b[1;33m:\u001b[0m\u001b[1;33m\u001b[0m\u001b[1;33m\u001b[0m\u001b[0m\n\u001b[0;32m     52\u001b[0m             \u001b[1;32mif\u001b[0m \u001b[0martist\u001b[0m\u001b[1;33m.\u001b[0m\u001b[0mget_agg_filter\u001b[0m\u001b[1;33m(\u001b[0m\u001b[1;33m)\u001b[0m \u001b[1;32mis\u001b[0m \u001b[1;32mnot\u001b[0m \u001b[1;32mNone\u001b[0m\u001b[1;33m:\u001b[0m\u001b[1;33m\u001b[0m\u001b[1;33m\u001b[0m\u001b[0m\n",
      "\u001b[1;32mE:\\Anaconda folder\\lib\\site-packages\\matplotlib\\axis.py\u001b[0m in \u001b[0;36mdraw\u001b[1;34m(self, renderer, *args, **kwargs)\u001b[0m\n\u001b[0;32m   1156\u001b[0m         \u001b[0mrenderer\u001b[0m\u001b[1;33m.\u001b[0m\u001b[0mopen_group\u001b[0m\u001b[1;33m(\u001b[0m\u001b[0m__name__\u001b[0m\u001b[1;33m,\u001b[0m \u001b[0mgid\u001b[0m\u001b[1;33m=\u001b[0m\u001b[0mself\u001b[0m\u001b[1;33m.\u001b[0m\u001b[0mget_gid\u001b[0m\u001b[1;33m(\u001b[0m\u001b[1;33m)\u001b[0m\u001b[1;33m)\u001b[0m\u001b[1;33m\u001b[0m\u001b[1;33m\u001b[0m\u001b[0m\n\u001b[0;32m   1157\u001b[0m \u001b[1;33m\u001b[0m\u001b[0m\n\u001b[1;32m-> 1158\u001b[1;33m         \u001b[0mticks_to_draw\u001b[0m \u001b[1;33m=\u001b[0m \u001b[0mself\u001b[0m\u001b[1;33m.\u001b[0m\u001b[0m_update_ticks\u001b[0m\u001b[1;33m(\u001b[0m\u001b[1;33m)\u001b[0m\u001b[1;33m\u001b[0m\u001b[1;33m\u001b[0m\u001b[0m\n\u001b[0m\u001b[0;32m   1159\u001b[0m         ticklabelBoxes, ticklabelBoxes2 = self._get_tick_bboxes(ticks_to_draw,\n\u001b[0;32m   1160\u001b[0m                                                                 renderer)\n",
      "\u001b[1;32mE:\\Anaconda folder\\lib\\site-packages\\matplotlib\\axis.py\u001b[0m in \u001b[0;36m_update_ticks\u001b[1;34m(self)\u001b[0m\n\u001b[0;32m   1045\u001b[0m         \u001b[0mmajor_locs\u001b[0m \u001b[1;33m=\u001b[0m \u001b[0mself\u001b[0m\u001b[1;33m.\u001b[0m\u001b[0mget_majorticklocs\u001b[0m\u001b[1;33m(\u001b[0m\u001b[1;33m)\u001b[0m\u001b[1;33m\u001b[0m\u001b[1;33m\u001b[0m\u001b[0m\n\u001b[0;32m   1046\u001b[0m         \u001b[0mmajor_labels\u001b[0m \u001b[1;33m=\u001b[0m \u001b[0mself\u001b[0m\u001b[1;33m.\u001b[0m\u001b[0mmajor\u001b[0m\u001b[1;33m.\u001b[0m\u001b[0mformatter\u001b[0m\u001b[1;33m.\u001b[0m\u001b[0mformat_ticks\u001b[0m\u001b[1;33m(\u001b[0m\u001b[0mmajor_locs\u001b[0m\u001b[1;33m)\u001b[0m\u001b[1;33m\u001b[0m\u001b[1;33m\u001b[0m\u001b[0m\n\u001b[1;32m-> 1047\u001b[1;33m         \u001b[0mmajor_ticks\u001b[0m \u001b[1;33m=\u001b[0m \u001b[0mself\u001b[0m\u001b[1;33m.\u001b[0m\u001b[0mget_major_ticks\u001b[0m\u001b[1;33m(\u001b[0m\u001b[0mlen\u001b[0m\u001b[1;33m(\u001b[0m\u001b[0mmajor_locs\u001b[0m\u001b[1;33m)\u001b[0m\u001b[1;33m)\u001b[0m\u001b[1;33m\u001b[0m\u001b[1;33m\u001b[0m\u001b[0m\n\u001b[0m\u001b[0;32m   1048\u001b[0m         \u001b[0mself\u001b[0m\u001b[1;33m.\u001b[0m\u001b[0mmajor\u001b[0m\u001b[1;33m.\u001b[0m\u001b[0mformatter\u001b[0m\u001b[1;33m.\u001b[0m\u001b[0mset_locs\u001b[0m\u001b[1;33m(\u001b[0m\u001b[0mmajor_locs\u001b[0m\u001b[1;33m)\u001b[0m\u001b[1;33m\u001b[0m\u001b[1;33m\u001b[0m\u001b[0m\n\u001b[0;32m   1049\u001b[0m         \u001b[1;32mfor\u001b[0m \u001b[0mtick\u001b[0m\u001b[1;33m,\u001b[0m \u001b[0mloc\u001b[0m\u001b[1;33m,\u001b[0m \u001b[0mlabel\u001b[0m \u001b[1;32min\u001b[0m \u001b[0mzip\u001b[0m\u001b[1;33m(\u001b[0m\u001b[0mmajor_ticks\u001b[0m\u001b[1;33m,\u001b[0m \u001b[0mmajor_locs\u001b[0m\u001b[1;33m,\u001b[0m \u001b[0mmajor_labels\u001b[0m\u001b[1;33m)\u001b[0m\u001b[1;33m:\u001b[0m\u001b[1;33m\u001b[0m\u001b[1;33m\u001b[0m\u001b[0m\n",
      "\u001b[1;32mE:\\Anaconda folder\\lib\\site-packages\\matplotlib\\axis.py\u001b[0m in \u001b[0;36mget_major_ticks\u001b[1;34m(self, numticks)\u001b[0m\n\u001b[0;32m   1373\u001b[0m         \u001b[1;32mwhile\u001b[0m \u001b[0mlen\u001b[0m\u001b[1;33m(\u001b[0m\u001b[0mself\u001b[0m\u001b[1;33m.\u001b[0m\u001b[0mmajorTicks\u001b[0m\u001b[1;33m)\u001b[0m \u001b[1;33m<\u001b[0m \u001b[0mnumticks\u001b[0m\u001b[1;33m:\u001b[0m\u001b[1;33m\u001b[0m\u001b[1;33m\u001b[0m\u001b[0m\n\u001b[0;32m   1374\u001b[0m             \u001b[1;31m# Update the new tick label properties from the old.\u001b[0m\u001b[1;33m\u001b[0m\u001b[1;33m\u001b[0m\u001b[0m\n\u001b[1;32m-> 1375\u001b[1;33m             \u001b[0mtick\u001b[0m \u001b[1;33m=\u001b[0m \u001b[0mself\u001b[0m\u001b[1;33m.\u001b[0m\u001b[0m_get_tick\u001b[0m\u001b[1;33m(\u001b[0m\u001b[0mmajor\u001b[0m\u001b[1;33m=\u001b[0m\u001b[1;32mTrue\u001b[0m\u001b[1;33m)\u001b[0m\u001b[1;33m\u001b[0m\u001b[1;33m\u001b[0m\u001b[0m\n\u001b[0m\u001b[0;32m   1376\u001b[0m             \u001b[0mself\u001b[0m\u001b[1;33m.\u001b[0m\u001b[0mmajorTicks\u001b[0m\u001b[1;33m.\u001b[0m\u001b[0mappend\u001b[0m\u001b[1;33m(\u001b[0m\u001b[0mtick\u001b[0m\u001b[1;33m)\u001b[0m\u001b[1;33m\u001b[0m\u001b[1;33m\u001b[0m\u001b[0m\n\u001b[0;32m   1377\u001b[0m             \u001b[0mself\u001b[0m\u001b[1;33m.\u001b[0m\u001b[0m_copy_tick_props\u001b[0m\u001b[1;33m(\u001b[0m\u001b[0mself\u001b[0m\u001b[1;33m.\u001b[0m\u001b[0mmajorTicks\u001b[0m\u001b[1;33m[\u001b[0m\u001b[1;36m0\u001b[0m\u001b[1;33m]\u001b[0m\u001b[1;33m,\u001b[0m \u001b[0mtick\u001b[0m\u001b[1;33m)\u001b[0m\u001b[1;33m\u001b[0m\u001b[1;33m\u001b[0m\u001b[0m\n",
      "\u001b[1;32mE:\\Anaconda folder\\lib\\site-packages\\matplotlib\\axis.py\u001b[0m in \u001b[0;36m_get_tick\u001b[1;34m(self, major)\u001b[0m\n\u001b[0;32m   2055\u001b[0m         \u001b[1;32melse\u001b[0m\u001b[1;33m:\u001b[0m\u001b[1;33m\u001b[0m\u001b[1;33m\u001b[0m\u001b[0m\n\u001b[0;32m   2056\u001b[0m             \u001b[0mtick_kw\u001b[0m \u001b[1;33m=\u001b[0m \u001b[0mself\u001b[0m\u001b[1;33m.\u001b[0m\u001b[0m_minor_tick_kw\u001b[0m\u001b[1;33m\u001b[0m\u001b[1;33m\u001b[0m\u001b[0m\n\u001b[1;32m-> 2057\u001b[1;33m         \u001b[1;32mreturn\u001b[0m \u001b[0mXTick\u001b[0m\u001b[1;33m(\u001b[0m\u001b[0mself\u001b[0m\u001b[1;33m.\u001b[0m\u001b[0maxes\u001b[0m\u001b[1;33m,\u001b[0m \u001b[1;36m0\u001b[0m\u001b[1;33m,\u001b[0m \u001b[0mmajor\u001b[0m\u001b[1;33m=\u001b[0m\u001b[0mmajor\u001b[0m\u001b[1;33m,\u001b[0m \u001b[1;33m**\u001b[0m\u001b[0mtick_kw\u001b[0m\u001b[1;33m)\u001b[0m\u001b[1;33m\u001b[0m\u001b[1;33m\u001b[0m\u001b[0m\n\u001b[0m\u001b[0;32m   2058\u001b[0m \u001b[1;33m\u001b[0m\u001b[0m\n\u001b[0;32m   2059\u001b[0m     \u001b[1;32mdef\u001b[0m \u001b[0mset_label_position\u001b[0m\u001b[1;33m(\u001b[0m\u001b[0mself\u001b[0m\u001b[1;33m,\u001b[0m \u001b[0mposition\u001b[0m\u001b[1;33m)\u001b[0m\u001b[1;33m:\u001b[0m\u001b[1;33m\u001b[0m\u001b[1;33m\u001b[0m\u001b[0m\n",
      "\u001b[1;32mE:\\Anaconda folder\\lib\\site-packages\\matplotlib\\axis.py\u001b[0m in \u001b[0;36m__init__\u001b[1;34m(self, *args, **kwargs)\u001b[0m\n\u001b[0;32m    413\u001b[0m \u001b[1;33m\u001b[0m\u001b[0m\n\u001b[0;32m    414\u001b[0m     \u001b[1;32mdef\u001b[0m \u001b[0m__init__\u001b[0m\u001b[1;33m(\u001b[0m\u001b[0mself\u001b[0m\u001b[1;33m,\u001b[0m \u001b[1;33m*\u001b[0m\u001b[0margs\u001b[0m\u001b[1;33m,\u001b[0m \u001b[1;33m**\u001b[0m\u001b[0mkwargs\u001b[0m\u001b[1;33m)\u001b[0m\u001b[1;33m:\u001b[0m\u001b[1;33m\u001b[0m\u001b[1;33m\u001b[0m\u001b[0m\n\u001b[1;32m--> 415\u001b[1;33m         \u001b[0msuper\u001b[0m\u001b[1;33m(\u001b[0m\u001b[1;33m)\u001b[0m\u001b[1;33m.\u001b[0m\u001b[0m__init__\u001b[0m\u001b[1;33m(\u001b[0m\u001b[1;33m*\u001b[0m\u001b[0margs\u001b[0m\u001b[1;33m,\u001b[0m \u001b[1;33m**\u001b[0m\u001b[0mkwargs\u001b[0m\u001b[1;33m)\u001b[0m\u001b[1;33m\u001b[0m\u001b[1;33m\u001b[0m\u001b[0m\n\u001b[0m\u001b[0;32m    416\u001b[0m         \u001b[1;31m# x in data coords, y in axes coords\u001b[0m\u001b[1;33m\u001b[0m\u001b[1;33m\u001b[0m\u001b[0m\n\u001b[0;32m    417\u001b[0m         \u001b[0max\u001b[0m \u001b[1;33m=\u001b[0m \u001b[0mself\u001b[0m\u001b[1;33m.\u001b[0m\u001b[0maxes\u001b[0m\u001b[1;33m\u001b[0m\u001b[1;33m\u001b[0m\u001b[0m\n",
      "\u001b[1;32mE:\\Anaconda folder\\lib\\site-packages\\matplotlib\\axis.py\u001b[0m in \u001b[0;36m__init__\u001b[1;34m(self, axes, loc, size, width, color, tickdir, pad, labelsize, labelcolor, zorder, gridOn, tick1On, tick2On, label1On, label2On, major, labelrotation, grid_color, grid_linestyle, grid_linewidth, grid_alpha, **kw)\u001b[0m\n\u001b[0;32m    175\u001b[0m             rotation=self._labelrotation[1])\n\u001b[0;32m    176\u001b[0m \u001b[1;33m\u001b[0m\u001b[0m\n\u001b[1;32m--> 177\u001b[1;33m         \u001b[0mself\u001b[0m\u001b[1;33m.\u001b[0m\u001b[0m_apply_tickdir\u001b[0m\u001b[1;33m(\u001b[0m\u001b[0mtickdir\u001b[0m\u001b[1;33m)\u001b[0m\u001b[1;33m\u001b[0m\u001b[1;33m\u001b[0m\u001b[0m\n\u001b[0m\u001b[0;32m    178\u001b[0m \u001b[1;33m\u001b[0m\u001b[0m\n\u001b[0;32m    179\u001b[0m         for artist in [self.tick1line, self.tick2line, self.gridline,\n",
      "\u001b[1;32mE:\\Anaconda folder\\lib\\site-packages\\matplotlib\\axis.py\u001b[0m in \u001b[0;36m_apply_tickdir\u001b[1;34m(self, tickdir)\u001b[0m\n\u001b[0;32m    449\u001b[0m         }[self._tickdir]\n\u001b[0;32m    450\u001b[0m         \u001b[0mself\u001b[0m\u001b[1;33m.\u001b[0m\u001b[0mtick1line\u001b[0m\u001b[1;33m.\u001b[0m\u001b[0mset_marker\u001b[0m\u001b[1;33m(\u001b[0m\u001b[0mmark1\u001b[0m\u001b[1;33m)\u001b[0m\u001b[1;33m\u001b[0m\u001b[1;33m\u001b[0m\u001b[0m\n\u001b[1;32m--> 451\u001b[1;33m         \u001b[0mself\u001b[0m\u001b[1;33m.\u001b[0m\u001b[0mtick2line\u001b[0m\u001b[1;33m.\u001b[0m\u001b[0mset_marker\u001b[0m\u001b[1;33m(\u001b[0m\u001b[0mmark2\u001b[0m\u001b[1;33m)\u001b[0m\u001b[1;33m\u001b[0m\u001b[1;33m\u001b[0m\u001b[0m\n\u001b[0m\u001b[0;32m    452\u001b[0m \u001b[1;33m\u001b[0m\u001b[0m\n\u001b[0;32m    453\u001b[0m     \u001b[1;32mdef\u001b[0m \u001b[0mupdate_position\u001b[0m\u001b[1;33m(\u001b[0m\u001b[0mself\u001b[0m\u001b[1;33m,\u001b[0m \u001b[0mloc\u001b[0m\u001b[1;33m)\u001b[0m\u001b[1;33m:\u001b[0m\u001b[1;33m\u001b[0m\u001b[1;33m\u001b[0m\u001b[0m\n",
      "\u001b[1;32mE:\\Anaconda folder\\lib\\site-packages\\matplotlib\\lines.py\u001b[0m in \u001b[0;36mset_marker\u001b[1;34m(self, marker)\u001b[0m\n\u001b[0;32m   1144\u001b[0m             \u001b[0marguments\u001b[0m\u001b[1;33m.\u001b[0m\u001b[1;33m\u001b[0m\u001b[1;33m\u001b[0m\u001b[0m\n\u001b[0;32m   1145\u001b[0m         \"\"\"\n\u001b[1;32m-> 1146\u001b[1;33m         \u001b[0mself\u001b[0m\u001b[1;33m.\u001b[0m\u001b[0m_marker\u001b[0m \u001b[1;33m=\u001b[0m \u001b[0mMarkerStyle\u001b[0m\u001b[1;33m(\u001b[0m\u001b[0mmarker\u001b[0m\u001b[1;33m,\u001b[0m \u001b[0mself\u001b[0m\u001b[1;33m.\u001b[0m\u001b[0m_marker\u001b[0m\u001b[1;33m.\u001b[0m\u001b[0mget_fillstyle\u001b[0m\u001b[1;33m(\u001b[0m\u001b[1;33m)\u001b[0m\u001b[1;33m)\u001b[0m\u001b[1;33m\u001b[0m\u001b[1;33m\u001b[0m\u001b[0m\n\u001b[0m\u001b[0;32m   1147\u001b[0m         \u001b[0mself\u001b[0m\u001b[1;33m.\u001b[0m\u001b[0mstale\u001b[0m \u001b[1;33m=\u001b[0m \u001b[1;32mTrue\u001b[0m\u001b[1;33m\u001b[0m\u001b[1;33m\u001b[0m\u001b[0m\n\u001b[0;32m   1148\u001b[0m \u001b[1;33m\u001b[0m\u001b[0m\n",
      "\u001b[1;32mE:\\Anaconda folder\\lib\\site-packages\\matplotlib\\markers.py\u001b[0m in \u001b[0;36m__init__\u001b[1;34m(self, marker, fillstyle)\u001b[0m\n\u001b[0;32m    233\u001b[0m         \u001b[0mself\u001b[0m\u001b[1;33m.\u001b[0m\u001b[0m_marker_function\u001b[0m \u001b[1;33m=\u001b[0m \u001b[1;32mNone\u001b[0m\u001b[1;33m\u001b[0m\u001b[1;33m\u001b[0m\u001b[0m\n\u001b[0;32m    234\u001b[0m         \u001b[0mself\u001b[0m\u001b[1;33m.\u001b[0m\u001b[0m_set_fillstyle\u001b[0m\u001b[1;33m(\u001b[0m\u001b[0mfillstyle\u001b[0m\u001b[1;33m)\u001b[0m\u001b[1;33m\u001b[0m\u001b[1;33m\u001b[0m\u001b[0m\n\u001b[1;32m--> 235\u001b[1;33m         \u001b[0mself\u001b[0m\u001b[1;33m.\u001b[0m\u001b[0m_set_marker\u001b[0m\u001b[1;33m(\u001b[0m\u001b[0mmarker\u001b[0m\u001b[1;33m)\u001b[0m\u001b[1;33m\u001b[0m\u001b[1;33m\u001b[0m\u001b[0m\n\u001b[0m\u001b[0;32m    236\u001b[0m \u001b[1;33m\u001b[0m\u001b[0m\n\u001b[0;32m    237\u001b[0m     \u001b[1;32mdef\u001b[0m \u001b[0m_recache\u001b[0m\u001b[1;33m(\u001b[0m\u001b[0mself\u001b[0m\u001b[1;33m)\u001b[0m\u001b[1;33m:\u001b[0m\u001b[1;33m\u001b[0m\u001b[1;33m\u001b[0m\u001b[0m\n",
      "\u001b[1;32mE:\\Anaconda folder\\lib\\site-packages\\matplotlib\\markers.py\u001b[0m in \u001b[0;36m_set_marker\u001b[1;34m(self, marker)\u001b[0m\n\u001b[0;32m    332\u001b[0m         \u001b[1;32mif\u001b[0m \u001b[1;32mnot\u001b[0m \u001b[0misinstance\u001b[0m\u001b[1;33m(\u001b[0m\u001b[0mmarker\u001b[0m\u001b[1;33m,\u001b[0m \u001b[0mMarkerStyle\u001b[0m\u001b[1;33m)\u001b[0m\u001b[1;33m:\u001b[0m\u001b[1;33m\u001b[0m\u001b[1;33m\u001b[0m\u001b[0m\n\u001b[0;32m    333\u001b[0m             \u001b[0mself\u001b[0m\u001b[1;33m.\u001b[0m\u001b[0m_marker\u001b[0m \u001b[1;33m=\u001b[0m \u001b[0mmarker\u001b[0m\u001b[1;33m\u001b[0m\u001b[1;33m\u001b[0m\u001b[0m\n\u001b[1;32m--> 334\u001b[1;33m             \u001b[0mself\u001b[0m\u001b[1;33m.\u001b[0m\u001b[0m_recache\u001b[0m\u001b[1;33m(\u001b[0m\u001b[1;33m)\u001b[0m\u001b[1;33m\u001b[0m\u001b[1;33m\u001b[0m\u001b[0m\n\u001b[0m\u001b[0;32m    335\u001b[0m \u001b[1;33m\u001b[0m\u001b[0m\n\u001b[0;32m    336\u001b[0m     \u001b[1;32mdef\u001b[0m \u001b[0mget_path\u001b[0m\u001b[1;33m(\u001b[0m\u001b[0mself\u001b[0m\u001b[1;33m)\u001b[0m\u001b[1;33m:\u001b[0m\u001b[1;33m\u001b[0m\u001b[1;33m\u001b[0m\u001b[0m\n",
      "\u001b[1;32mE:\\Anaconda folder\\lib\\site-packages\\matplotlib\\markers.py\u001b[0m in \u001b[0;36m_recache\u001b[1;34m(self)\u001b[0m\n\u001b[0;32m    249\u001b[0m         \u001b[1;31m# markers.\u001b[0m\u001b[1;33m\u001b[0m\u001b[1;33m\u001b[0m\u001b[0m\n\u001b[0;32m    250\u001b[0m         \u001b[0mself\u001b[0m\u001b[1;33m.\u001b[0m\u001b[0m_filled\u001b[0m \u001b[1;33m=\u001b[0m \u001b[0mself\u001b[0m\u001b[1;33m.\u001b[0m\u001b[0m_fillstyle\u001b[0m \u001b[1;33m!=\u001b[0m \u001b[1;34m'none'\u001b[0m\u001b[1;33m\u001b[0m\u001b[1;33m\u001b[0m\u001b[0m\n\u001b[1;32m--> 251\u001b[1;33m         \u001b[0mself\u001b[0m\u001b[1;33m.\u001b[0m\u001b[0m_marker_function\u001b[0m\u001b[1;33m(\u001b[0m\u001b[1;33m)\u001b[0m\u001b[1;33m\u001b[0m\u001b[1;33m\u001b[0m\u001b[0m\n\u001b[0m\u001b[0;32m    252\u001b[0m \u001b[1;33m\u001b[0m\u001b[0m\n\u001b[0;32m    253\u001b[0m     \u001b[1;32mdef\u001b[0m \u001b[0m__bool__\u001b[0m\u001b[1;33m(\u001b[0m\u001b[0mself\u001b[0m\u001b[1;33m)\u001b[0m\u001b[1;33m:\u001b[0m\u001b[1;33m\u001b[0m\u001b[1;33m\u001b[0m\u001b[0m\n",
      "\u001b[1;32mE:\\Anaconda folder\\lib\\site-packages\\matplotlib\\markers.py\u001b[0m in \u001b[0;36m_set_tickup\u001b[1;34m(self)\u001b[0m\n\u001b[0;32m    695\u001b[0m \u001b[1;33m\u001b[0m\u001b[0m\n\u001b[0;32m    696\u001b[0m     \u001b[1;32mdef\u001b[0m \u001b[0m_set_tickup\u001b[0m\u001b[1;33m(\u001b[0m\u001b[0mself\u001b[0m\u001b[1;33m)\u001b[0m\u001b[1;33m:\u001b[0m\u001b[1;33m\u001b[0m\u001b[1;33m\u001b[0m\u001b[0m\n\u001b[1;32m--> 697\u001b[1;33m         \u001b[0mself\u001b[0m\u001b[1;33m.\u001b[0m\u001b[0m_transform\u001b[0m \u001b[1;33m=\u001b[0m \u001b[0mAffine2D\u001b[0m\u001b[1;33m(\u001b[0m\u001b[1;33m)\u001b[0m\u001b[1;33m.\u001b[0m\u001b[0mscale\u001b[0m\u001b[1;33m(\u001b[0m\u001b[1;36m1.0\u001b[0m\u001b[1;33m,\u001b[0m \u001b[1;36m1.0\u001b[0m\u001b[1;33m)\u001b[0m\u001b[1;33m\u001b[0m\u001b[1;33m\u001b[0m\u001b[0m\n\u001b[0m\u001b[0;32m    698\u001b[0m         \u001b[0mself\u001b[0m\u001b[1;33m.\u001b[0m\u001b[0m_snap_threshold\u001b[0m \u001b[1;33m=\u001b[0m \u001b[1;36m1.0\u001b[0m\u001b[1;33m\u001b[0m\u001b[1;33m\u001b[0m\u001b[0m\n\u001b[0;32m    699\u001b[0m         \u001b[0mself\u001b[0m\u001b[1;33m.\u001b[0m\u001b[0m_filled\u001b[0m \u001b[1;33m=\u001b[0m \u001b[1;32mFalse\u001b[0m\u001b[1;33m\u001b[0m\u001b[1;33m\u001b[0m\u001b[0m\n",
      "\u001b[1;32mE:\\Anaconda folder\\lib\\site-packages\\matplotlib\\transforms.py\u001b[0m in \u001b[0;36m__init__\u001b[1;34m(self, matrix, **kwargs)\u001b[0m\n\u001b[0;32m   1912\u001b[0m             \u001b[1;31m# A bit faster than np.identity(3).\u001b[0m\u001b[1;33m\u001b[0m\u001b[1;33m\u001b[0m\u001b[0m\n\u001b[0;32m   1913\u001b[0m             \u001b[0mmatrix\u001b[0m \u001b[1;33m=\u001b[0m \u001b[0mIdentityTransform\u001b[0m\u001b[1;33m.\u001b[0m\u001b[0m_mtx\u001b[0m\u001b[1;33m.\u001b[0m\u001b[0mcopy\u001b[0m\u001b[1;33m(\u001b[0m\u001b[1;33m)\u001b[0m\u001b[1;33m\u001b[0m\u001b[1;33m\u001b[0m\u001b[0m\n\u001b[1;32m-> 1914\u001b[1;33m         \u001b[0mself\u001b[0m\u001b[1;33m.\u001b[0m\u001b[0m_mtx\u001b[0m \u001b[1;33m=\u001b[0m \u001b[0mmatrix\u001b[0m\u001b[1;33m.\u001b[0m\u001b[0mcopy\u001b[0m\u001b[1;33m(\u001b[0m\u001b[1;33m)\u001b[0m\u001b[1;33m\u001b[0m\u001b[1;33m\u001b[0m\u001b[0m\n\u001b[0m\u001b[0;32m   1915\u001b[0m         \u001b[0mself\u001b[0m\u001b[1;33m.\u001b[0m\u001b[0m_invalid\u001b[0m \u001b[1;33m=\u001b[0m \u001b[1;36m0\u001b[0m\u001b[1;33m\u001b[0m\u001b[1;33m\u001b[0m\u001b[0m\n\u001b[0;32m   1916\u001b[0m \u001b[1;33m\u001b[0m\u001b[0m\n",
      "\u001b[1;31mKeyboardInterrupt\u001b[0m: "
     ]
    }
   ],
   "source": [
    "import matplotlib.pyplot as plt\n",
    "df.hist(figsize=(50,45))"
   ]
  },
  {
   "cell_type": "markdown",
   "id": "c917d8c2",
   "metadata": {},
   "source": [
    "# # Train - Test Spilliting"
   ]
  },
  {
   "cell_type": "code",
   "execution_count": 12,
   "id": "0d66ac03",
   "metadata": {},
   "outputs": [
    {
     "name": "stdout",
     "output_type": "stream",
     "text": [
      "Length of train set  5908\n",
      "Length of train set  1477\n"
     ]
    },
    {
     "data": {
      "text/plain": [
       "4     2557\n",
       "6     1979\n",
       "8     1108\n",
       "12     122\n",
       "3       80\n",
       "10      36\n",
       "5       23\n",
       "16       3\n",
       "Name: Cylinders, dtype: int64"
      ]
     },
     "execution_count": 12,
     "metadata": {},
     "output_type": "execute_result"
    }
   ],
   "source": [
    "from sklearn.model_selection import train_test_split\n",
    "train_set ,test_set =train_test_split(df,test_size=0.2,random_state=42)\n",
    "print(f\"Length of train set  {len(train_set)}\")\n",
    "print(f\"Length of train set  {len(test_set)}\")\n",
    "train_set[\"Cylinders\"].value_counts()"
   ]
  },
  {
   "cell_type": "markdown",
   "id": "6bb61c1b",
   "metadata": {},
   "source": [
    "## Train-Test Spilliting By using Stratified Shuffled Spilliting\n"
   ]
  },
  {
   "cell_type": "code",
   "execution_count": 13,
   "id": "40c7360d",
   "metadata": {},
   "outputs": [],
   "source": [
    "from sklearn.model_selection import StratifiedShuffleSplit\n",
    "sss = StratifiedShuffleSplit(n_splits=10,test_size=0.2,\n",
    "                             random_state=42)\n",
    "for train_index,test_index in sss.split(df,df[\"Cylinders\"]):\n",
    "    strat_train_set=df.loc[train_index]\n",
    "    strat_test_set=df.loc[test_index]\n"
   ]
  },
  {
   "cell_type": "code",
   "execution_count": 14,
   "id": "aa6d414d",
   "metadata": {},
   "outputs": [
    {
     "data": {
      "text/html": [
       "<div>\n",
       "<style scoped>\n",
       "    .dataframe tbody tr th:only-of-type {\n",
       "        vertical-align: middle;\n",
       "    }\n",
       "\n",
       "    .dataframe tbody tr th {\n",
       "        vertical-align: top;\n",
       "    }\n",
       "\n",
       "    .dataframe thead th {\n",
       "        text-align: right;\n",
       "    }\n",
       "</style>\n",
       "<table border=\"1\" class=\"dataframe\">\n",
       "  <thead>\n",
       "    <tr style=\"text-align: right;\">\n",
       "      <th></th>\n",
       "      <th>Engine Size(L)</th>\n",
       "      <th>Cylinders</th>\n",
       "      <th>Fuel Consumption Comb</th>\n",
       "      <th>CO2 Emissions(g/km)</th>\n",
       "      <th>Fuel Type_D</th>\n",
       "      <th>Fuel Type_E</th>\n",
       "      <th>Fuel Type_N</th>\n",
       "      <th>Fuel Type_X</th>\n",
       "      <th>Fuel Type_Z</th>\n",
       "      <th>Make_General</th>\n",
       "      <th>Make_Luxury</th>\n",
       "      <th>Make_Premium</th>\n",
       "      <th>Make_Sports</th>\n",
       "      <th>Vehicle Class_Hatchback</th>\n",
       "      <th>Vehicle Class_SUV</th>\n",
       "      <th>Vehicle Class_Sedan</th>\n",
       "      <th>Vehicle Class_Truck</th>\n",
       "    </tr>\n",
       "  </thead>\n",
       "  <tbody>\n",
       "    <tr>\n",
       "      <th>4557</th>\n",
       "      <td>2.8</td>\n",
       "      <td>4</td>\n",
       "      <td>9.6</td>\n",
       "      <td>257</td>\n",
       "      <td>1</td>\n",
       "      <td>0</td>\n",
       "      <td>0</td>\n",
       "      <td>0</td>\n",
       "      <td>0</td>\n",
       "      <td>1</td>\n",
       "      <td>0</td>\n",
       "      <td>0</td>\n",
       "      <td>0</td>\n",
       "      <td>0</td>\n",
       "      <td>0</td>\n",
       "      <td>0</td>\n",
       "      <td>1</td>\n",
       "    </tr>\n",
       "    <tr>\n",
       "      <th>7151</th>\n",
       "      <td>2.5</td>\n",
       "      <td>4</td>\n",
       "      <td>8.2</td>\n",
       "      <td>192</td>\n",
       "      <td>0</td>\n",
       "      <td>0</td>\n",
       "      <td>0</td>\n",
       "      <td>1</td>\n",
       "      <td>0</td>\n",
       "      <td>1</td>\n",
       "      <td>0</td>\n",
       "      <td>0</td>\n",
       "      <td>0</td>\n",
       "      <td>1</td>\n",
       "      <td>0</td>\n",
       "      <td>0</td>\n",
       "      <td>0</td>\n",
       "    </tr>\n",
       "    <tr>\n",
       "      <th>6242</th>\n",
       "      <td>2.0</td>\n",
       "      <td>4</td>\n",
       "      <td>9.0</td>\n",
       "      <td>210</td>\n",
       "      <td>0</td>\n",
       "      <td>0</td>\n",
       "      <td>0</td>\n",
       "      <td>0</td>\n",
       "      <td>1</td>\n",
       "      <td>0</td>\n",
       "      <td>0</td>\n",
       "      <td>1</td>\n",
       "      <td>0</td>\n",
       "      <td>1</td>\n",
       "      <td>0</td>\n",
       "      <td>0</td>\n",
       "      <td>0</td>\n",
       "    </tr>\n",
       "    <tr>\n",
       "      <th>4395</th>\n",
       "      <td>2.0</td>\n",
       "      <td>4</td>\n",
       "      <td>9.5</td>\n",
       "      <td>223</td>\n",
       "      <td>0</td>\n",
       "      <td>0</td>\n",
       "      <td>0</td>\n",
       "      <td>1</td>\n",
       "      <td>0</td>\n",
       "      <td>0</td>\n",
       "      <td>0</td>\n",
       "      <td>1</td>\n",
       "      <td>0</td>\n",
       "      <td>1</td>\n",
       "      <td>0</td>\n",
       "      <td>0</td>\n",
       "      <td>0</td>\n",
       "    </tr>\n",
       "    <tr>\n",
       "      <th>5734</th>\n",
       "      <td>1.4</td>\n",
       "      <td>4</td>\n",
       "      <td>9.4</td>\n",
       "      <td>221</td>\n",
       "      <td>0</td>\n",
       "      <td>0</td>\n",
       "      <td>0</td>\n",
       "      <td>1</td>\n",
       "      <td>0</td>\n",
       "      <td>1</td>\n",
       "      <td>0</td>\n",
       "      <td>0</td>\n",
       "      <td>0</td>\n",
       "      <td>0</td>\n",
       "      <td>0</td>\n",
       "      <td>1</td>\n",
       "      <td>0</td>\n",
       "    </tr>\n",
       "    <tr>\n",
       "      <th>...</th>\n",
       "      <td>...</td>\n",
       "      <td>...</td>\n",
       "      <td>...</td>\n",
       "      <td>...</td>\n",
       "      <td>...</td>\n",
       "      <td>...</td>\n",
       "      <td>...</td>\n",
       "      <td>...</td>\n",
       "      <td>...</td>\n",
       "      <td>...</td>\n",
       "      <td>...</td>\n",
       "      <td>...</td>\n",
       "      <td>...</td>\n",
       "      <td>...</td>\n",
       "      <td>...</td>\n",
       "      <td>...</td>\n",
       "      <td>...</td>\n",
       "    </tr>\n",
       "    <tr>\n",
       "      <th>4905</th>\n",
       "      <td>3.3</td>\n",
       "      <td>6</td>\n",
       "      <td>11.5</td>\n",
       "      <td>269</td>\n",
       "      <td>0</td>\n",
       "      <td>0</td>\n",
       "      <td>0</td>\n",
       "      <td>1</td>\n",
       "      <td>0</td>\n",
       "      <td>1</td>\n",
       "      <td>0</td>\n",
       "      <td>0</td>\n",
       "      <td>0</td>\n",
       "      <td>0</td>\n",
       "      <td>1</td>\n",
       "      <td>0</td>\n",
       "      <td>0</td>\n",
       "    </tr>\n",
       "    <tr>\n",
       "      <th>4786</th>\n",
       "      <td>5.0</td>\n",
       "      <td>8</td>\n",
       "      <td>12.8</td>\n",
       "      <td>300</td>\n",
       "      <td>0</td>\n",
       "      <td>0</td>\n",
       "      <td>0</td>\n",
       "      <td>1</td>\n",
       "      <td>0</td>\n",
       "      <td>1</td>\n",
       "      <td>0</td>\n",
       "      <td>0</td>\n",
       "      <td>0</td>\n",
       "      <td>1</td>\n",
       "      <td>0</td>\n",
       "      <td>0</td>\n",
       "      <td>0</td>\n",
       "    </tr>\n",
       "    <tr>\n",
       "      <th>1347</th>\n",
       "      <td>1.8</td>\n",
       "      <td>4</td>\n",
       "      <td>8.3</td>\n",
       "      <td>191</td>\n",
       "      <td>0</td>\n",
       "      <td>0</td>\n",
       "      <td>0</td>\n",
       "      <td>1</td>\n",
       "      <td>0</td>\n",
       "      <td>1</td>\n",
       "      <td>0</td>\n",
       "      <td>0</td>\n",
       "      <td>0</td>\n",
       "      <td>1</td>\n",
       "      <td>0</td>\n",
       "      <td>0</td>\n",
       "      <td>0</td>\n",
       "    </tr>\n",
       "    <tr>\n",
       "      <th>4995</th>\n",
       "      <td>2.0</td>\n",
       "      <td>4</td>\n",
       "      <td>8.3</td>\n",
       "      <td>195</td>\n",
       "      <td>0</td>\n",
       "      <td>0</td>\n",
       "      <td>0</td>\n",
       "      <td>1</td>\n",
       "      <td>0</td>\n",
       "      <td>1</td>\n",
       "      <td>0</td>\n",
       "      <td>0</td>\n",
       "      <td>0</td>\n",
       "      <td>0</td>\n",
       "      <td>0</td>\n",
       "      <td>1</td>\n",
       "      <td>0</td>\n",
       "    </tr>\n",
       "    <tr>\n",
       "      <th>2608</th>\n",
       "      <td>3.5</td>\n",
       "      <td>6</td>\n",
       "      <td>13.7</td>\n",
       "      <td>322</td>\n",
       "      <td>0</td>\n",
       "      <td>0</td>\n",
       "      <td>0</td>\n",
       "      <td>1</td>\n",
       "      <td>0</td>\n",
       "      <td>1</td>\n",
       "      <td>0</td>\n",
       "      <td>0</td>\n",
       "      <td>0</td>\n",
       "      <td>0</td>\n",
       "      <td>1</td>\n",
       "      <td>0</td>\n",
       "      <td>0</td>\n",
       "    </tr>\n",
       "  </tbody>\n",
       "</table>\n",
       "<p>5908 rows × 17 columns</p>\n",
       "</div>"
      ],
      "text/plain": [
       "      Engine Size(L)  Cylinders  Fuel Consumption Comb  CO2 Emissions(g/km)  \\\n",
       "4557             2.8          4                    9.6                  257   \n",
       "7151             2.5          4                    8.2                  192   \n",
       "6242             2.0          4                    9.0                  210   \n",
       "4395             2.0          4                    9.5                  223   \n",
       "5734             1.4          4                    9.4                  221   \n",
       "...              ...        ...                    ...                  ...   \n",
       "4905             3.3          6                   11.5                  269   \n",
       "4786             5.0          8                   12.8                  300   \n",
       "1347             1.8          4                    8.3                  191   \n",
       "4995             2.0          4                    8.3                  195   \n",
       "2608             3.5          6                   13.7                  322   \n",
       "\n",
       "      Fuel Type_D  Fuel Type_E  Fuel Type_N  Fuel Type_X  Fuel Type_Z  \\\n",
       "4557            1            0            0            0            0   \n",
       "7151            0            0            0            1            0   \n",
       "6242            0            0            0            0            1   \n",
       "4395            0            0            0            1            0   \n",
       "5734            0            0            0            1            0   \n",
       "...           ...          ...          ...          ...          ...   \n",
       "4905            0            0            0            1            0   \n",
       "4786            0            0            0            1            0   \n",
       "1347            0            0            0            1            0   \n",
       "4995            0            0            0            1            0   \n",
       "2608            0            0            0            1            0   \n",
       "\n",
       "      Make_General  Make_Luxury  Make_Premium  Make_Sports  \\\n",
       "4557             1            0             0            0   \n",
       "7151             1            0             0            0   \n",
       "6242             0            0             1            0   \n",
       "4395             0            0             1            0   \n",
       "5734             1            0             0            0   \n",
       "...            ...          ...           ...          ...   \n",
       "4905             1            0             0            0   \n",
       "4786             1            0             0            0   \n",
       "1347             1            0             0            0   \n",
       "4995             1            0             0            0   \n",
       "2608             1            0             0            0   \n",
       "\n",
       "      Vehicle Class_Hatchback  Vehicle Class_SUV  Vehicle Class_Sedan  \\\n",
       "4557                        0                  0                    0   \n",
       "7151                        1                  0                    0   \n",
       "6242                        1                  0                    0   \n",
       "4395                        1                  0                    0   \n",
       "5734                        0                  0                    1   \n",
       "...                       ...                ...                  ...   \n",
       "4905                        0                  1                    0   \n",
       "4786                        1                  0                    0   \n",
       "1347                        1                  0                    0   \n",
       "4995                        0                  0                    1   \n",
       "2608                        0                  1                    0   \n",
       "\n",
       "      Vehicle Class_Truck  \n",
       "4557                    1  \n",
       "7151                    0  \n",
       "6242                    0  \n",
       "4395                    0  \n",
       "5734                    0  \n",
       "...                   ...  \n",
       "4905                    0  \n",
       "4786                    0  \n",
       "1347                    0  \n",
       "4995                    0  \n",
       "2608                    0  \n",
       "\n",
       "[5908 rows x 17 columns]"
      ]
     },
     "execution_count": 14,
     "metadata": {},
     "output_type": "execute_result"
    }
   ],
   "source": [
    "strat_train_set[\"Cylinders\"].value_counts()\n",
    "df=strat_train_set.copy()\n",
    "df"
   ]
  },
  {
   "cell_type": "markdown",
   "id": "bb507a86",
   "metadata": {},
   "source": [
    " ## Looking For Corelations"
   ]
  },
  {
   "cell_type": "code",
   "execution_count": 15,
   "id": "b1d6915c",
   "metadata": {},
   "outputs": [
    {
     "data": {
      "text/plain": [
       "CO2 Emissions(g/km)        1.000000\n",
       "Fuel Consumption Comb      0.918634\n",
       "Engine Size(L)             0.852782\n",
       "Cylinders                  0.834012\n",
       "Vehicle Class_Truck        0.313436\n",
       "Fuel Type_Z                0.233195\n",
       "Make_Sports                0.178955\n",
       "Make_Luxury                0.145284\n",
       "Vehicle Class_SUV          0.116333\n",
       "Make_Premium               0.096181\n",
       "Fuel Type_E                0.087720\n",
       "Fuel Type_D               -0.039803\n",
       "Vehicle Class_Sedan       -0.108882\n",
       "Vehicle Class_Hatchback   -0.228839\n",
       "Fuel Type_X               -0.257018\n",
       "Make_General              -0.257799\n",
       "Fuel Type_N                     NaN\n",
       "Name: CO2 Emissions(g/km), dtype: float64"
      ]
     },
     "execution_count": 15,
     "metadata": {},
     "output_type": "execute_result"
    }
   ],
   "source": [
    "corr_matrix=df.corr()\n",
    "corr_matrix[\"CO2 Emissions(g/km)\"].sort_values(ascending=False)"
   ]
  },
  {
   "cell_type": "markdown",
   "id": "4ced44fb",
   "metadata": {},
   "source": [
    "## Scatter Matrix Plot to Understand Coorelations more Effectively"
   ]
  },
  {
   "cell_type": "code",
   "execution_count": 16,
   "id": "af67e8f6",
   "metadata": {},
   "outputs": [
    {
     "data": {
      "text/plain": [
       "array([[<AxesSubplot:xlabel='CO2 Emissions(g/km)', ylabel='CO2 Emissions(g/km)'>,\n",
       "        <AxesSubplot:xlabel='Engine Size(L)', ylabel='CO2 Emissions(g/km)'>,\n",
       "        <AxesSubplot:xlabel='Cylinders', ylabel='CO2 Emissions(g/km)'>,\n",
       "        <AxesSubplot:xlabel='Fuel Consumption Comb', ylabel='CO2 Emissions(g/km)'>],\n",
       "       [<AxesSubplot:xlabel='CO2 Emissions(g/km)', ylabel='Engine Size(L)'>,\n",
       "        <AxesSubplot:xlabel='Engine Size(L)', ylabel='Engine Size(L)'>,\n",
       "        <AxesSubplot:xlabel='Cylinders', ylabel='Engine Size(L)'>,\n",
       "        <AxesSubplot:xlabel='Fuel Consumption Comb', ylabel='Engine Size(L)'>],\n",
       "       [<AxesSubplot:xlabel='CO2 Emissions(g/km)', ylabel='Cylinders'>,\n",
       "        <AxesSubplot:xlabel='Engine Size(L)', ylabel='Cylinders'>,\n",
       "        <AxesSubplot:xlabel='Cylinders', ylabel='Cylinders'>,\n",
       "        <AxesSubplot:xlabel='Fuel Consumption Comb', ylabel='Cylinders'>],\n",
       "       [<AxesSubplot:xlabel='CO2 Emissions(g/km)', ylabel='Fuel Consumption Comb'>,\n",
       "        <AxesSubplot:xlabel='Engine Size(L)', ylabel='Fuel Consumption Comb'>,\n",
       "        <AxesSubplot:xlabel='Cylinders', ylabel='Fuel Consumption Comb'>,\n",
       "        <AxesSubplot:xlabel='Fuel Consumption Comb', ylabel='Fuel Consumption Comb'>]],\n",
       "      dtype=object)"
      ]
     },
     "execution_count": 16,
     "metadata": {},
     "output_type": "execute_result"
    },
    {
     "data": {
      "image/png": "[encoded data removed]",
      "text/plain": [
       "<Figure size 2000x1200 with 16 Axes>"
      ]
     },
     "metadata": {},
     "output_type": "display_data"
    }
   ],
   "source": [
    "Attributes=[\"CO2 Emissions(g/km)\",\"Engine Size(L)\",\"Cylinders\",\"Fuel Consumption Comb\"]\n",
    "pd.plotting.scatter_matrix(df[Attributes],figsize=(20,12))"
   ]
  },
  {
   "cell_type": "markdown",
   "id": "0aa4c864",
   "metadata": {},
   "source": [
    "## After Analyzing we come up that CO2 Emissions and Fuel Consumption is very significant so we separate its graph"
   ]
  },
  {
   "cell_type": "code",
   "execution_count": 17,
   "id": "edb29df8",
   "metadata": {},
   "outputs": [
    {
     "data": {
      "text/plain": [
       "<AxesSubplot:xlabel='CO2 Emissions(g/km)', ylabel='Fuel Consumption Comb'>"
      ]
     },
     "execution_count": 17,
     "metadata": {},
     "output_type": "execute_result"
    },
    {
     "data": {
      "image/png": "[encoded data removed]",
      "text/plain": [
       "<Figure size 300x200 with 1 Axes>"
      ]
     },
     "metadata": {},
     "output_type": "display_data"
    }
   ],
   "source": [
    "df.plot(kind=\"scatter\" , x='CO2 Emissions(g/km)' , y=\"Fuel Consumption Comb\" , alpha =0.8 ,figsize=(3,2))"
   ]
  },
  {
   "cell_type": "markdown",
   "id": "a3fcc698",
   "metadata": {},
   "source": [
    " ## Trying Out Different  Attributes To Understand Data More Effectively"
   ]
  },
  {
   "cell_type": "code",
   "execution_count": 18,
   "id": "9c50b04f",
   "metadata": {},
   "outputs": [
    {
     "data": {
      "text/html": [
       "<div>\n",
       "<style scoped>\n",
       "    .dataframe tbody tr th:only-of-type {\n",
       "        vertical-align: middle;\n",
       "    }\n",
       "\n",
       "    .dataframe tbody tr th {\n",
       "        vertical-align: top;\n",
       "    }\n",
       "\n",
       "    .dataframe thead th {\n",
       "        text-align: right;\n",
       "    }\n",
       "</style>\n",
       "<table border=\"1\" class=\"dataframe\">\n",
       "  <thead>\n",
       "    <tr style=\"text-align: right;\">\n",
       "      <th></th>\n",
       "      <th>Engine Size(L)</th>\n",
       "      <th>Cylinders</th>\n",
       "      <th>Fuel Consumption Comb</th>\n",
       "      <th>CO2 Emissions(g/km)</th>\n",
       "      <th>Fuel Type_D</th>\n",
       "      <th>Fuel Type_E</th>\n",
       "      <th>Fuel Type_N</th>\n",
       "      <th>Fuel Type_X</th>\n",
       "      <th>Fuel Type_Z</th>\n",
       "      <th>Make_General</th>\n",
       "      <th>Make_Luxury</th>\n",
       "      <th>Make_Premium</th>\n",
       "      <th>Make_Sports</th>\n",
       "      <th>Vehicle Class_Hatchback</th>\n",
       "      <th>Vehicle Class_SUV</th>\n",
       "      <th>Vehicle Class_Sedan</th>\n",
       "      <th>Vehicle Class_Truck</th>\n",
       "    </tr>\n",
       "  </thead>\n",
       "  <tbody>\n",
       "    <tr>\n",
       "      <th>4557</th>\n",
       "      <td>2.8</td>\n",
       "      <td>4</td>\n",
       "      <td>9.6</td>\n",
       "      <td>257</td>\n",
       "      <td>1</td>\n",
       "      <td>0</td>\n",
       "      <td>0</td>\n",
       "      <td>0</td>\n",
       "      <td>0</td>\n",
       "      <td>1</td>\n",
       "      <td>0</td>\n",
       "      <td>0</td>\n",
       "      <td>0</td>\n",
       "      <td>0</td>\n",
       "      <td>0</td>\n",
       "      <td>0</td>\n",
       "      <td>1</td>\n",
       "    </tr>\n",
       "    <tr>\n",
       "      <th>7151</th>\n",
       "      <td>2.5</td>\n",
       "      <td>4</td>\n",
       "      <td>8.2</td>\n",
       "      <td>192</td>\n",
       "      <td>0</td>\n",
       "      <td>0</td>\n",
       "      <td>0</td>\n",
       "      <td>1</td>\n",
       "      <td>0</td>\n",
       "      <td>1</td>\n",
       "      <td>0</td>\n",
       "      <td>0</td>\n",
       "      <td>0</td>\n",
       "      <td>1</td>\n",
       "      <td>0</td>\n",
       "      <td>0</td>\n",
       "      <td>0</td>\n",
       "    </tr>\n",
       "    <tr>\n",
       "      <th>6242</th>\n",
       "      <td>2.0</td>\n",
       "      <td>4</td>\n",
       "      <td>9.0</td>\n",
       "      <td>210</td>\n",
       "      <td>0</td>\n",
       "      <td>0</td>\n",
       "      <td>0</td>\n",
       "      <td>0</td>\n",
       "      <td>1</td>\n",
       "      <td>0</td>\n",
       "      <td>0</td>\n",
       "      <td>1</td>\n",
       "      <td>0</td>\n",
       "      <td>1</td>\n",
       "      <td>0</td>\n",
       "      <td>0</td>\n",
       "      <td>0</td>\n",
       "    </tr>\n",
       "    <tr>\n",
       "      <th>4395</th>\n",
       "      <td>2.0</td>\n",
       "      <td>4</td>\n",
       "      <td>9.5</td>\n",
       "      <td>223</td>\n",
       "      <td>0</td>\n",
       "      <td>0</td>\n",
       "      <td>0</td>\n",
       "      <td>1</td>\n",
       "      <td>0</td>\n",
       "      <td>0</td>\n",
       "      <td>0</td>\n",
       "      <td>1</td>\n",
       "      <td>0</td>\n",
       "      <td>1</td>\n",
       "      <td>0</td>\n",
       "      <td>0</td>\n",
       "      <td>0</td>\n",
       "    </tr>\n",
       "    <tr>\n",
       "      <th>5734</th>\n",
       "      <td>1.4</td>\n",
       "      <td>4</td>\n",
       "      <td>9.4</td>\n",
       "      <td>221</td>\n",
       "      <td>0</td>\n",
       "      <td>0</td>\n",
       "      <td>0</td>\n",
       "      <td>1</td>\n",
       "      <td>0</td>\n",
       "      <td>1</td>\n",
       "      <td>0</td>\n",
       "      <td>0</td>\n",
       "      <td>0</td>\n",
       "      <td>0</td>\n",
       "      <td>0</td>\n",
       "      <td>1</td>\n",
       "      <td>0</td>\n",
       "    </tr>\n",
       "    <tr>\n",
       "      <th>...</th>\n",
       "      <td>...</td>\n",
       "      <td>...</td>\n",
       "      <td>...</td>\n",
       "      <td>...</td>\n",
       "      <td>...</td>\n",
       "      <td>...</td>\n",
       "      <td>...</td>\n",
       "      <td>...</td>\n",
       "      <td>...</td>\n",
       "      <td>...</td>\n",
       "      <td>...</td>\n",
       "      <td>...</td>\n",
       "      <td>...</td>\n",
       "      <td>...</td>\n",
       "      <td>...</td>\n",
       "      <td>...</td>\n",
       "      <td>...</td>\n",
       "    </tr>\n",
       "    <tr>\n",
       "      <th>4905</th>\n",
       "      <td>3.3</td>\n",
       "      <td>6</td>\n",
       "      <td>11.5</td>\n",
       "      <td>269</td>\n",
       "      <td>0</td>\n",
       "      <td>0</td>\n",
       "      <td>0</td>\n",
       "      <td>1</td>\n",
       "      <td>0</td>\n",
       "      <td>1</td>\n",
       "      <td>0</td>\n",
       "      <td>0</td>\n",
       "      <td>0</td>\n",
       "      <td>0</td>\n",
       "      <td>1</td>\n",
       "      <td>0</td>\n",
       "      <td>0</td>\n",
       "    </tr>\n",
       "    <tr>\n",
       "      <th>4786</th>\n",
       "      <td>5.0</td>\n",
       "      <td>8</td>\n",
       "      <td>12.8</td>\n",
       "      <td>300</td>\n",
       "      <td>0</td>\n",
       "      <td>0</td>\n",
       "      <td>0</td>\n",
       "      <td>1</td>\n",
       "      <td>0</td>\n",
       "      <td>1</td>\n",
       "      <td>0</td>\n",
       "      <td>0</td>\n",
       "      <td>0</td>\n",
       "      <td>1</td>\n",
       "      <td>0</td>\n",
       "      <td>0</td>\n",
       "      <td>0</td>\n",
       "    </tr>\n",
       "    <tr>\n",
       "      <th>1347</th>\n",
       "      <td>1.8</td>\n",
       "      <td>4</td>\n",
       "      <td>8.3</td>\n",
       "      <td>191</td>\n",
       "      <td>0</td>\n",
       "      <td>0</td>\n",
       "      <td>0</td>\n",
       "      <td>1</td>\n",
       "      <td>0</td>\n",
       "      <td>1</td>\n",
       "      <td>0</td>\n",
       "      <td>0</td>\n",
       "      <td>0</td>\n",
       "      <td>1</td>\n",
       "      <td>0</td>\n",
       "      <td>0</td>\n",
       "      <td>0</td>\n",
       "    </tr>\n",
       "    <tr>\n",
       "      <th>4995</th>\n",
       "      <td>2.0</td>\n",
       "      <td>4</td>\n",
       "      <td>8.3</td>\n",
       "      <td>195</td>\n",
       "      <td>0</td>\n",
       "      <td>0</td>\n",
       "      <td>0</td>\n",
       "      <td>1</td>\n",
       "      <td>0</td>\n",
       "      <td>1</td>\n",
       "      <td>0</td>\n",
       "      <td>0</td>\n",
       "      <td>0</td>\n",
       "      <td>0</td>\n",
       "      <td>0</td>\n",
       "      <td>1</td>\n",
       "      <td>0</td>\n",
       "    </tr>\n",
       "    <tr>\n",
       "      <th>2608</th>\n",
       "      <td>3.5</td>\n",
       "      <td>6</td>\n",
       "      <td>13.7</td>\n",
       "      <td>322</td>\n",
       "      <td>0</td>\n",
       "      <td>0</td>\n",
       "      <td>0</td>\n",
       "      <td>1</td>\n",
       "      <td>0</td>\n",
       "      <td>1</td>\n",
       "      <td>0</td>\n",
       "      <td>0</td>\n",
       "      <td>0</td>\n",
       "      <td>0</td>\n",
       "      <td>1</td>\n",
       "      <td>0</td>\n",
       "      <td>0</td>\n",
       "    </tr>\n",
       "  </tbody>\n",
       "</table>\n",
       "<p>5908 rows × 17 columns</p>\n",
       "</div>"
      ],
      "text/plain": [
       "      Engine Size(L)  Cylinders  Fuel Consumption Comb  CO2 Emissions(g/km)  \\\n",
       "4557             2.8          4                    9.6                  257   \n",
       "7151             2.5          4                    8.2                  192   \n",
       "6242             2.0          4                    9.0                  210   \n",
       "4395             2.0          4                    9.5                  223   \n",
       "5734             1.4          4                    9.4                  221   \n",
       "...              ...        ...                    ...                  ...   \n",
       "4905             3.3          6                   11.5                  269   \n",
       "4786             5.0          8                   12.8                  300   \n",
       "1347             1.8          4                    8.3                  191   \n",
       "4995             2.0          4                    8.3                  195   \n",
       "2608             3.5          6                   13.7                  322   \n",
       "\n",
       "      Fuel Type_D  Fuel Type_E  Fuel Type_N  Fuel Type_X  Fuel Type_Z  \\\n",
       "4557            1            0            0            0            0   \n",
       "7151            0            0            0            1            0   \n",
       "6242            0            0            0            0            1   \n",
       "4395            0            0            0            1            0   \n",
       "5734            0            0            0            1            0   \n",
       "...           ...          ...          ...          ...          ...   \n",
       "4905            0            0            0            1            0   \n",
       "4786            0            0            0            1            0   \n",
       "1347            0            0            0            1            0   \n",
       "4995            0            0            0            1            0   \n",
       "2608            0            0            0            1            0   \n",
       "\n",
       "      Make_General  Make_Luxury  Make_Premium  Make_Sports  \\\n",
       "4557             1            0             0            0   \n",
       "7151             1            0             0            0   \n",
       "6242             0            0             1            0   \n",
       "4395             0            0             1            0   \n",
       "5734             1            0             0            0   \n",
       "...            ...          ...           ...          ...   \n",
       "4905             1            0             0            0   \n",
       "4786             1            0             0            0   \n",
       "1347             1            0             0            0   \n",
       "4995             1            0             0            0   \n",
       "2608             1            0             0            0   \n",
       "\n",
       "      Vehicle Class_Hatchback  Vehicle Class_SUV  Vehicle Class_Sedan  \\\n",
       "4557                        0                  0                    0   \n",
       "7151                        1                  0                    0   \n",
       "6242                        1                  0                    0   \n",
       "4395                        1                  0                    0   \n",
       "5734                        0                  0                    1   \n",
       "...                       ...                ...                  ...   \n",
       "4905                        0                  1                    0   \n",
       "4786                        1                  0                    0   \n",
       "1347                        1                  0                    0   \n",
       "4995                        0                  0                    1   \n",
       "2608                        0                  1                    0   \n",
       "\n",
       "      Vehicle Class_Truck  \n",
       "4557                    1  \n",
       "7151                    0  \n",
       "6242                    0  \n",
       "4395                    0  \n",
       "5734                    0  \n",
       "...                   ...  \n",
       "4905                    0  \n",
       "4786                    0  \n",
       "1347                    0  \n",
       "4995                    0  \n",
       "2608                    0  \n",
       "\n",
       "[5908 rows x 17 columns]"
      ]
     },
     "execution_count": 18,
     "metadata": {},
     "output_type": "execute_result"
    }
   ],
   "source": [
    "df['EmissionsperConsumption']=df[\"CO2 Emissions(g/km)\"]/df[\"Fuel Consumption Comb\"]\n",
    "df[\"EmissionsperConsumption\"]\n",
    "df.drop([\"EmissionsperConsumption\"],axis=1,inplace=True)\n",
    "df"
   ]
  },
  {
   "cell_type": "code",
   "execution_count": 19,
   "id": "92d24e39",
   "metadata": {},
   "outputs": [
    {
     "data": {
      "text/html": [
       "<div>\n",
       "<style scoped>\n",
       "    .dataframe tbody tr th:only-of-type {\n",
       "        vertical-align: middle;\n",
       "    }\n",
       "\n",
       "    .dataframe tbody tr th {\n",
       "        vertical-align: top;\n",
       "    }\n",
       "\n",
       "    .dataframe thead th {\n",
       "        text-align: right;\n",
       "    }\n",
       "</style>\n",
       "<table border=\"1\" class=\"dataframe\">\n",
       "  <thead>\n",
       "    <tr style=\"text-align: right;\">\n",
       "      <th></th>\n",
       "      <th>Engine Size(L)</th>\n",
       "      <th>Cylinders</th>\n",
       "      <th>Fuel Consumption Comb</th>\n",
       "      <th>Fuel Type_D</th>\n",
       "      <th>Fuel Type_E</th>\n",
       "      <th>Fuel Type_N</th>\n",
       "      <th>Fuel Type_X</th>\n",
       "      <th>Fuel Type_Z</th>\n",
       "      <th>Make_General</th>\n",
       "      <th>Make_Luxury</th>\n",
       "      <th>Make_Premium</th>\n",
       "      <th>Make_Sports</th>\n",
       "      <th>Vehicle Class_Hatchback</th>\n",
       "      <th>Vehicle Class_SUV</th>\n",
       "      <th>Vehicle Class_Sedan</th>\n",
       "      <th>Vehicle Class_Truck</th>\n",
       "    </tr>\n",
       "  </thead>\n",
       "  <tbody>\n",
       "    <tr>\n",
       "      <th>4557</th>\n",
       "      <td>2.8</td>\n",
       "      <td>4</td>\n",
       "      <td>9.6</td>\n",
       "      <td>1</td>\n",
       "      <td>0</td>\n",
       "      <td>0</td>\n",
       "      <td>0</td>\n",
       "      <td>0</td>\n",
       "      <td>1</td>\n",
       "      <td>0</td>\n",
       "      <td>0</td>\n",
       "      <td>0</td>\n",
       "      <td>0</td>\n",
       "      <td>0</td>\n",
       "      <td>0</td>\n",
       "      <td>1</td>\n",
       "    </tr>\n",
       "    <tr>\n",
       "      <th>7151</th>\n",
       "      <td>2.5</td>\n",
       "      <td>4</td>\n",
       "      <td>8.2</td>\n",
       "      <td>0</td>\n",
       "      <td>0</td>\n",
       "      <td>0</td>\n",
       "      <td>1</td>\n",
       "      <td>0</td>\n",
       "      <td>1</td>\n",
       "      <td>0</td>\n",
       "      <td>0</td>\n",
       "      <td>0</td>\n",
       "      <td>1</td>\n",
       "      <td>0</td>\n",
       "      <td>0</td>\n",
       "      <td>0</td>\n",
       "    </tr>\n",
       "    <tr>\n",
       "      <th>6242</th>\n",
       "      <td>2.0</td>\n",
       "      <td>4</td>\n",
       "      <td>9.0</td>\n",
       "      <td>0</td>\n",
       "      <td>0</td>\n",
       "      <td>0</td>\n",
       "      <td>0</td>\n",
       "      <td>1</td>\n",
       "      <td>0</td>\n",
       "      <td>0</td>\n",
       "      <td>1</td>\n",
       "      <td>0</td>\n",
       "      <td>1</td>\n",
       "      <td>0</td>\n",
       "      <td>0</td>\n",
       "      <td>0</td>\n",
       "    </tr>\n",
       "    <tr>\n",
       "      <th>4395</th>\n",
       "      <td>2.0</td>\n",
       "      <td>4</td>\n",
       "      <td>9.5</td>\n",
       "      <td>0</td>\n",
       "      <td>0</td>\n",
       "      <td>0</td>\n",
       "      <td>1</td>\n",
       "      <td>0</td>\n",
       "      <td>0</td>\n",
       "      <td>0</td>\n",
       "      <td>1</td>\n",
       "      <td>0</td>\n",
       "      <td>1</td>\n",
       "      <td>0</td>\n",
       "      <td>0</td>\n",
       "      <td>0</td>\n",
       "    </tr>\n",
       "    <tr>\n",
       "      <th>5734</th>\n",
       "      <td>1.4</td>\n",
       "      <td>4</td>\n",
       "      <td>9.4</td>\n",
       "      <td>0</td>\n",
       "      <td>0</td>\n",
       "      <td>0</td>\n",
       "      <td>1</td>\n",
       "      <td>0</td>\n",
       "      <td>1</td>\n",
       "      <td>0</td>\n",
       "      <td>0</td>\n",
       "      <td>0</td>\n",
       "      <td>0</td>\n",
       "      <td>0</td>\n",
       "      <td>1</td>\n",
       "      <td>0</td>\n",
       "    </tr>\n",
       "    <tr>\n",
       "      <th>...</th>\n",
       "      <td>...</td>\n",
       "      <td>...</td>\n",
       "      <td>...</td>\n",
       "      <td>...</td>\n",
       "      <td>...</td>\n",
       "      <td>...</td>\n",
       "      <td>...</td>\n",
       "      <td>...</td>\n",
       "      <td>...</td>\n",
       "      <td>...</td>\n",
       "      <td>...</td>\n",
       "      <td>...</td>\n",
       "      <td>...</td>\n",
       "      <td>...</td>\n",
       "      <td>...</td>\n",
       "      <td>...</td>\n",
       "    </tr>\n",
       "    <tr>\n",
       "      <th>4905</th>\n",
       "      <td>3.3</td>\n",
       "      <td>6</td>\n",
       "      <td>11.5</td>\n",
       "      <td>0</td>\n",
       "      <td>0</td>\n",
       "      <td>0</td>\n",
       "      <td>1</td>\n",
       "      <td>0</td>\n",
       "      <td>1</td>\n",
       "      <td>0</td>\n",
       "      <td>0</td>\n",
       "      <td>0</td>\n",
       "      <td>0</td>\n",
       "      <td>1</td>\n",
       "      <td>0</td>\n",
       "      <td>0</td>\n",
       "    </tr>\n",
       "    <tr>\n",
       "      <th>4786</th>\n",
       "      <td>5.0</td>\n",
       "      <td>8</td>\n",
       "      <td>12.8</td>\n",
       "      <td>0</td>\n",
       "      <td>0</td>\n",
       "      <td>0</td>\n",
       "      <td>1</td>\n",
       "      <td>0</td>\n",
       "      <td>1</td>\n",
       "      <td>0</td>\n",
       "      <td>0</td>\n",
       "      <td>0</td>\n",
       "      <td>1</td>\n",
       "      <td>0</td>\n",
       "      <td>0</td>\n",
       "      <td>0</td>\n",
       "    </tr>\n",
       "    <tr>\n",
       "      <th>1347</th>\n",
       "      <td>1.8</td>\n",
       "      <td>4</td>\n",
       "      <td>8.3</td>\n",
       "      <td>0</td>\n",
       "      <td>0</td>\n",
       "      <td>0</td>\n",
       "      <td>1</td>\n",
       "      <td>0</td>\n",
       "      <td>1</td>\n",
       "      <td>0</td>\n",
       "      <td>0</td>\n",
       "      <td>0</td>\n",
       "      <td>1</td>\n",
       "      <td>0</td>\n",
       "      <td>0</td>\n",
       "      <td>0</td>\n",
       "    </tr>\n",
       "    <tr>\n",
       "      <th>4995</th>\n",
       "      <td>2.0</td>\n",
       "      <td>4</td>\n",
       "      <td>8.3</td>\n",
       "      <td>0</td>\n",
       "      <td>0</td>\n",
       "      <td>0</td>\n",
       "      <td>1</td>\n",
       "      <td>0</td>\n",
       "      <td>1</td>\n",
       "      <td>0</td>\n",
       "      <td>0</td>\n",
       "      <td>0</td>\n",
       "      <td>0</td>\n",
       "      <td>0</td>\n",
       "      <td>1</td>\n",
       "      <td>0</td>\n",
       "    </tr>\n",
       "    <tr>\n",
       "      <th>2608</th>\n",
       "      <td>3.5</td>\n",
       "      <td>6</td>\n",
       "      <td>13.7</td>\n",
       "      <td>0</td>\n",
       "      <td>0</td>\n",
       "      <td>0</td>\n",
       "      <td>1</td>\n",
       "      <td>0</td>\n",
       "      <td>1</td>\n",
       "      <td>0</td>\n",
       "      <td>0</td>\n",
       "      <td>0</td>\n",
       "      <td>0</td>\n",
       "      <td>1</td>\n",
       "      <td>0</td>\n",
       "      <td>0</td>\n",
       "    </tr>\n",
       "  </tbody>\n",
       "</table>\n",
       "<p>5908 rows × 16 columns</p>\n",
       "</div>"
      ],
      "text/plain": [
       "      Engine Size(L)  Cylinders  Fuel Consumption Comb  Fuel Type_D  \\\n",
       "4557             2.8          4                    9.6            1   \n",
       "7151             2.5          4                    8.2            0   \n",
       "6242             2.0          4                    9.0            0   \n",
       "4395             2.0          4                    9.5            0   \n",
       "5734             1.4          4                    9.4            0   \n",
       "...              ...        ...                    ...          ...   \n",
       "4905             3.3          6                   11.5            0   \n",
       "4786             5.0          8                   12.8            0   \n",
       "1347             1.8          4                    8.3            0   \n",
       "4995             2.0          4                    8.3            0   \n",
       "2608             3.5          6                   13.7            0   \n",
       "\n",
       "      Fuel Type_E  Fuel Type_N  Fuel Type_X  Fuel Type_Z  Make_General  \\\n",
       "4557            0            0            0            0             1   \n",
       "7151            0            0            1            0             1   \n",
       "6242            0            0            0            1             0   \n",
       "4395            0            0            1            0             0   \n",
       "5734            0            0            1            0             1   \n",
       "...           ...          ...          ...          ...           ...   \n",
       "4905            0            0            1            0             1   \n",
       "4786            0            0            1            0             1   \n",
       "1347            0            0            1            0             1   \n",
       "4995            0            0            1            0             1   \n",
       "2608            0            0            1            0             1   \n",
       "\n",
       "      Make_Luxury  Make_Premium  Make_Sports  Vehicle Class_Hatchback  \\\n",
       "4557            0             0            0                        0   \n",
       "7151            0             0            0                        1   \n",
       "6242            0             1            0                        1   \n",
       "4395            0             1            0                        1   \n",
       "5734            0             0            0                        0   \n",
       "...           ...           ...          ...                      ...   \n",
       "4905            0             0            0                        0   \n",
       "4786            0             0            0                        1   \n",
       "1347            0             0            0                        1   \n",
       "4995            0             0            0                        0   \n",
       "2608            0             0            0                        0   \n",
       "\n",
       "      Vehicle Class_SUV  Vehicle Class_Sedan  Vehicle Class_Truck  \n",
       "4557                  0                    0                    1  \n",
       "7151                  0                    0                    0  \n",
       "6242                  0                    0                    0  \n",
       "4395                  0                    0                    0  \n",
       "5734                  0                    1                    0  \n",
       "...                 ...                  ...                  ...  \n",
       "4905                  1                    0                    0  \n",
       "4786                  0                    0                    0  \n",
       "1347                  0                    0                    0  \n",
       "4995                  0                    1                    0  \n",
       "2608                  1                    0                    0  \n",
       "\n",
       "[5908 rows x 16 columns]"
      ]
     },
     "execution_count": 19,
     "metadata": {},
     "output_type": "execute_result"
    }
   ],
   "source": [
    "# Distributing data in x and y \n",
    "df=strat_train_set.drop(\"CO2 Emissions(g/km)\",axis=1)\n",
    "df_y=strat_train_set[\"CO2 Emissions(g/km)\"].copy()\n",
    "test_x=strat_test_set.drop(\"CO2 Emissions(g/km)\",axis=1)\n",
    "test_y=strat_test_set[\"CO2 Emissions(g/km)\"].copy()\n",
    "df"
   ]
  },
  {
   "cell_type": "markdown",
   "id": "dfb5aec3",
   "metadata": {},
   "source": [
    "## Feature Scalling"
   ]
  },
  {
   "cell_type": "code",
   "execution_count": 20,
   "id": "8e41435b",
   "metadata": {},
   "outputs": [
    {
     "data": {
      "text/html": [
       "<div>\n",
       "<style scoped>\n",
       "    .dataframe tbody tr th:only-of-type {\n",
       "        vertical-align: middle;\n",
       "    }\n",
       "\n",
       "    .dataframe tbody tr th {\n",
       "        vertical-align: top;\n",
       "    }\n",
       "\n",
       "    .dataframe thead th {\n",
       "        text-align: right;\n",
       "    }\n",
       "</style>\n",
       "<table border=\"1\" class=\"dataframe\">\n",
       "  <thead>\n",
       "    <tr style=\"text-align: right;\">\n",
       "      <th></th>\n",
       "      <th>0</th>\n",
       "      <th>1</th>\n",
       "      <th>2</th>\n",
       "      <th>3</th>\n",
       "      <th>4</th>\n",
       "      <th>5</th>\n",
       "      <th>6</th>\n",
       "      <th>7</th>\n",
       "      <th>8</th>\n",
       "      <th>9</th>\n",
       "      <th>10</th>\n",
       "      <th>11</th>\n",
       "      <th>12</th>\n",
       "      <th>13</th>\n",
       "      <th>14</th>\n",
       "      <th>15</th>\n",
       "    </tr>\n",
       "  </thead>\n",
       "  <tbody>\n",
       "    <tr>\n",
       "      <th>0</th>\n",
       "      <td>-0.272619</td>\n",
       "      <td>-0.884155</td>\n",
       "      <td>-0.480575</td>\n",
       "      <td>6.372255</td>\n",
       "      <td>-0.229661</td>\n",
       "      <td>0.0</td>\n",
       "      <td>-0.990901</td>\n",
       "      <td>-0.869322</td>\n",
       "      <td>1.116800</td>\n",
       "      <td>-0.203078</td>\n",
       "      <td>-0.852928</td>\n",
       "      <td>-0.322634</td>\n",
       "      <td>-0.600813</td>\n",
       "      <td>-0.610734</td>\n",
       "      <td>-0.726226</td>\n",
       "      <td>2.736513</td>\n",
       "    </tr>\n",
       "    <tr>\n",
       "      <th>1</th>\n",
       "      <td>-0.493365</td>\n",
       "      <td>-0.884155</td>\n",
       "      <td>-0.966728</td>\n",
       "      <td>-0.156930</td>\n",
       "      <td>-0.229661</td>\n",
       "      <td>0.0</td>\n",
       "      <td>1.009182</td>\n",
       "      <td>-0.869322</td>\n",
       "      <td>1.116800</td>\n",
       "      <td>-0.203078</td>\n",
       "      <td>-0.852928</td>\n",
       "      <td>-0.322634</td>\n",
       "      <td>1.664410</td>\n",
       "      <td>-0.610734</td>\n",
       "      <td>-0.726226</td>\n",
       "      <td>-0.365429</td>\n",
       "    </tr>\n",
       "    <tr>\n",
       "      <th>2</th>\n",
       "      <td>-0.861274</td>\n",
       "      <td>-0.884155</td>\n",
       "      <td>-0.688926</td>\n",
       "      <td>-0.156930</td>\n",
       "      <td>-0.229661</td>\n",
       "      <td>0.0</td>\n",
       "      <td>-0.990901</td>\n",
       "      <td>1.150322</td>\n",
       "      <td>-0.895415</td>\n",
       "      <td>-0.203078</td>\n",
       "      <td>1.172433</td>\n",
       "      <td>-0.322634</td>\n",
       "      <td>1.664410</td>\n",
       "      <td>-0.610734</td>\n",
       "      <td>-0.726226</td>\n",
       "      <td>-0.365429</td>\n",
       "    </tr>\n",
       "    <tr>\n",
       "      <th>3</th>\n",
       "      <td>-0.861274</td>\n",
       "      <td>-0.884155</td>\n",
       "      <td>-0.515300</td>\n",
       "      <td>-0.156930</td>\n",
       "      <td>-0.229661</td>\n",
       "      <td>0.0</td>\n",
       "      <td>1.009182</td>\n",
       "      <td>-0.869322</td>\n",
       "      <td>-0.895415</td>\n",
       "      <td>-0.203078</td>\n",
       "      <td>1.172433</td>\n",
       "      <td>-0.322634</td>\n",
       "      <td>1.664410</td>\n",
       "      <td>-0.610734</td>\n",
       "      <td>-0.726226</td>\n",
       "      <td>-0.365429</td>\n",
       "    </tr>\n",
       "    <tr>\n",
       "      <th>4</th>\n",
       "      <td>-1.302765</td>\n",
       "      <td>-0.884155</td>\n",
       "      <td>-0.550025</td>\n",
       "      <td>-0.156930</td>\n",
       "      <td>-0.229661</td>\n",
       "      <td>0.0</td>\n",
       "      <td>1.009182</td>\n",
       "      <td>-0.869322</td>\n",
       "      <td>1.116800</td>\n",
       "      <td>-0.203078</td>\n",
       "      <td>-0.852928</td>\n",
       "      <td>-0.322634</td>\n",
       "      <td>-0.600813</td>\n",
       "      <td>-0.610734</td>\n",
       "      <td>1.376982</td>\n",
       "      <td>-0.365429</td>\n",
       "    </tr>\n",
       "    <tr>\n",
       "      <th>...</th>\n",
       "      <td>...</td>\n",
       "      <td>...</td>\n",
       "      <td>...</td>\n",
       "      <td>...</td>\n",
       "      <td>...</td>\n",
       "      <td>...</td>\n",
       "      <td>...</td>\n",
       "      <td>...</td>\n",
       "      <td>...</td>\n",
       "      <td>...</td>\n",
       "      <td>...</td>\n",
       "      <td>...</td>\n",
       "      <td>...</td>\n",
       "      <td>...</td>\n",
       "      <td>...</td>\n",
       "      <td>...</td>\n",
       "    </tr>\n",
       "    <tr>\n",
       "      <th>5903</th>\n",
       "      <td>0.095290</td>\n",
       "      <td>0.202960</td>\n",
       "      <td>0.179204</td>\n",
       "      <td>-0.156930</td>\n",
       "      <td>-0.229661</td>\n",
       "      <td>0.0</td>\n",
       "      <td>1.009182</td>\n",
       "      <td>-0.869322</td>\n",
       "      <td>1.116800</td>\n",
       "      <td>-0.203078</td>\n",
       "      <td>-0.852928</td>\n",
       "      <td>-0.322634</td>\n",
       "      <td>-0.600813</td>\n",
       "      <td>1.637375</td>\n",
       "      <td>-0.726226</td>\n",
       "      <td>-0.365429</td>\n",
       "    </tr>\n",
       "    <tr>\n",
       "      <th>5904</th>\n",
       "      <td>1.346182</td>\n",
       "      <td>1.290075</td>\n",
       "      <td>0.630631</td>\n",
       "      <td>-0.156930</td>\n",
       "      <td>-0.229661</td>\n",
       "      <td>0.0</td>\n",
       "      <td>1.009182</td>\n",
       "      <td>-0.869322</td>\n",
       "      <td>1.116800</td>\n",
       "      <td>-0.203078</td>\n",
       "      <td>-0.852928</td>\n",
       "      <td>-0.322634</td>\n",
       "      <td>1.664410</td>\n",
       "      <td>-0.610734</td>\n",
       "      <td>-0.726226</td>\n",
       "      <td>-0.365429</td>\n",
       "    </tr>\n",
       "    <tr>\n",
       "      <th>5905</th>\n",
       "      <td>-1.008437</td>\n",
       "      <td>-0.884155</td>\n",
       "      <td>-0.932002</td>\n",
       "      <td>-0.156930</td>\n",
       "      <td>-0.229661</td>\n",
       "      <td>0.0</td>\n",
       "      <td>1.009182</td>\n",
       "      <td>-0.869322</td>\n",
       "      <td>1.116800</td>\n",
       "      <td>-0.203078</td>\n",
       "      <td>-0.852928</td>\n",
       "      <td>-0.322634</td>\n",
       "      <td>1.664410</td>\n",
       "      <td>-0.610734</td>\n",
       "      <td>-0.726226</td>\n",
       "      <td>-0.365429</td>\n",
       "    </tr>\n",
       "    <tr>\n",
       "      <th>5906</th>\n",
       "      <td>-0.861274</td>\n",
       "      <td>-0.884155</td>\n",
       "      <td>-0.932002</td>\n",
       "      <td>-0.156930</td>\n",
       "      <td>-0.229661</td>\n",
       "      <td>0.0</td>\n",
       "      <td>1.009182</td>\n",
       "      <td>-0.869322</td>\n",
       "      <td>1.116800</td>\n",
       "      <td>-0.203078</td>\n",
       "      <td>-0.852928</td>\n",
       "      <td>-0.322634</td>\n",
       "      <td>-0.600813</td>\n",
       "      <td>-0.610734</td>\n",
       "      <td>1.376982</td>\n",
       "      <td>-0.365429</td>\n",
       "    </tr>\n",
       "    <tr>\n",
       "      <th>5907</th>\n",
       "      <td>0.242454</td>\n",
       "      <td>0.202960</td>\n",
       "      <td>0.943158</td>\n",
       "      <td>-0.156930</td>\n",
       "      <td>-0.229661</td>\n",
       "      <td>0.0</td>\n",
       "      <td>1.009182</td>\n",
       "      <td>-0.869322</td>\n",
       "      <td>1.116800</td>\n",
       "      <td>-0.203078</td>\n",
       "      <td>-0.852928</td>\n",
       "      <td>-0.322634</td>\n",
       "      <td>-0.600813</td>\n",
       "      <td>1.637375</td>\n",
       "      <td>-0.726226</td>\n",
       "      <td>-0.365429</td>\n",
       "    </tr>\n",
       "  </tbody>\n",
       "</table>\n",
       "<p>5908 rows × 16 columns</p>\n",
       "</div>"
      ],
      "text/plain": [
       "            0         1         2         3         4    5         6   \\\n",
       "0    -0.272619 -0.884155 -0.480575  6.372255 -0.229661  0.0 -0.990901   \n",
       "1    -0.493365 -0.884155 -0.966728 -0.156930 -0.229661  0.0  1.009182   \n",
       "2    -0.861274 -0.884155 -0.688926 -0.156930 -0.229661  0.0 -0.990901   \n",
       "3    -0.861274 -0.884155 -0.515300 -0.156930 -0.229661  0.0  1.009182   \n",
       "4    -1.302765 -0.884155 -0.550025 -0.156930 -0.229661  0.0  1.009182   \n",
       "...        ...       ...       ...       ...       ...  ...       ...   \n",
       "5903  0.095290  0.202960  0.179204 -0.156930 -0.229661  0.0  1.009182   \n",
       "5904  1.346182  1.290075  0.630631 -0.156930 -0.229661  0.0  1.009182   \n",
       "5905 -1.008437 -0.884155 -0.932002 -0.156930 -0.229661  0.0  1.009182   \n",
       "5906 -0.861274 -0.884155 -0.932002 -0.156930 -0.229661  0.0  1.009182   \n",
       "5907  0.242454  0.202960  0.943158 -0.156930 -0.229661  0.0  1.009182   \n",
       "\n",
       "            7         8         9         10        11        12        13  \\\n",
       "0    -0.869322  1.116800 -0.203078 -0.852928 -0.322634 -0.600813 -0.610734   \n",
       "1    -0.869322  1.116800 -0.203078 -0.852928 -0.322634  1.664410 -0.610734   \n",
       "2     1.150322 -0.895415 -0.203078  1.172433 -0.322634  1.664410 -0.610734   \n",
       "3    -0.869322 -0.895415 -0.203078  1.172433 -0.322634  1.664410 -0.610734   \n",
       "4    -0.869322  1.116800 -0.203078 -0.852928 -0.322634 -0.600813 -0.610734   \n",
       "...        ...       ...       ...       ...       ...       ...       ...   \n",
       "5903 -0.869322  1.116800 -0.203078 -0.852928 -0.322634 -0.600813  1.637375   \n",
       "5904 -0.869322  1.116800 -0.203078 -0.852928 -0.322634  1.664410 -0.610734   \n",
       "5905 -0.869322  1.116800 -0.203078 -0.852928 -0.322634  1.664410 -0.610734   \n",
       "5906 -0.869322  1.116800 -0.203078 -0.852928 -0.322634 -0.600813 -0.610734   \n",
       "5907 -0.869322  1.116800 -0.203078 -0.852928 -0.322634 -0.600813  1.637375   \n",
       "\n",
       "            14        15  \n",
       "0    -0.726226  2.736513  \n",
       "1    -0.726226 -0.365429  \n",
       "2    -0.726226 -0.365429  \n",
       "3    -0.726226 -0.365429  \n",
       "4     1.376982 -0.365429  \n",
       "...        ...       ...  \n",
       "5903 -0.726226 -0.365429  \n",
       "5904 -0.726226 -0.365429  \n",
       "5905 -0.726226 -0.365429  \n",
       "5906  1.376982 -0.365429  \n",
       "5907 -0.726226 -0.365429  \n",
       "\n",
       "[5908 rows x 16 columns]"
      ]
     },
     "execution_count": 20,
     "metadata": {},
     "output_type": "execute_result"
    }
   ],
   "source": [
    "from sklearn.pipeline import Pipeline\n",
    "from sklearn.preprocessing import StandardScaler\n",
    "scaler = StandardScaler()\n",
    "df_tr = scaler.fit_transform(df)\n",
    "df_tr1=pd.DataFrame(df_tr)\n",
    "df_tr1"
   ]
  },
  {
   "cell_type": "markdown",
   "id": "59df2aed",
   "metadata": {},
   "source": [
    "##  1)Linear Regression Model"
   ]
  },
  {
   "cell_type": "code",
   "execution_count": 21,
   "id": "71cc1433",
   "metadata": {},
   "outputs": [
    {
     "data": {
      "text/plain": [
       "0.9918598144646913"
      ]
     },
     "execution_count": 21,
     "metadata": {},
     "output_type": "execute_result"
    }
   ],
   "source": [
    "from sklearn.linear_model import LinearRegression\n",
    "model = LinearRegression()\n",
    "model.fit(df_tr,df_y)\n",
    "model.score(df_tr,df_y)"
   ]
  },
  {
   "cell_type": "markdown",
   "id": "8f218a37",
   "metadata": {},
   "source": [
    "## Evaluating The Model Using Mean Squared Error"
   ]
  },
  {
   "cell_type": "code",
   "execution_count": 22,
   "id": "8272caeb",
   "metadata": {},
   "outputs": [
    {
     "data": {
      "text/plain": [
       "27.917348146320144"
      ]
     },
     "execution_count": 22,
     "metadata": {},
     "output_type": "execute_result"
    }
   ],
   "source": [
    "from sklearn.metrics import mean_squared_error\n",
    "df_predictions=model.predict(df_tr)\n",
    "mean_squared_error(df_y, df_predictions)"
   ]
  },
  {
   "cell_type": "markdown",
   "id": "82c8e7ed",
   "metadata": {},
   "source": [
    "## Using Better Evaluation Technique - Cross Validation"
   ]
  },
  {
   "cell_type": "code",
   "execution_count": 23,
   "id": "104770ec",
   "metadata": {},
   "outputs": [
    {
     "data": {
      "text/plain": [
       "array([0.99234838, 0.99290889, 0.98870128, 0.99243254, 0.99143255,\n",
       "       0.9941778 , 0.99266748, 0.99154293, 0.98987557])"
      ]
     },
     "execution_count": 23,
     "metadata": {},
     "output_type": "execute_result"
    }
   ],
   "source": [
    "from sklearn.model_selection import cross_val_score\n",
    "scores = cross_val_score(model,df_tr,df_y, cv=9)\n",
    "scores"
   ]
  },
  {
   "cell_type": "markdown",
   "id": "a28e72b7",
   "metadata": {},
   "source": [
    "## Cross Validation With Shuffle Split"
   ]
  },
  {
   "cell_type": "code",
   "execution_count": 24,
   "id": "baeba4a7",
   "metadata": {},
   "outputs": [
    {
     "data": {
      "text/plain": [
       "array([0.99371948, 0.99161582, 0.99367464, 0.99229546, 0.99343517,\n",
       "       0.9929799 , 0.98830465, 0.98976812, 0.9937704 , 0.99264809])"
      ]
     },
     "execution_count": 24,
     "metadata": {},
     "output_type": "execute_result"
    }
   ],
   "source": [
    "from sklearn.model_selection import ShuffleSplit\n",
    "# Making 5 sets of of train and test set\n",
    "cv = ShuffleSplit(n_splits=10, test_size=0.2, random_state=0)\n",
    "# Finding out the score for each set with Linear Regression Model\n",
    "cross_val_score(LinearRegression(), df, df_y, cv=cv, scoring = \"r2\")"
   ]
  },
  {
   "cell_type": "markdown",
   "id": "d6574e7b",
   "metadata": {},
   "source": [
    "## 2) Ridge Regression"
   ]
  },
  {
   "cell_type": "code",
   "execution_count": 25,
   "id": "63e60f57",
   "metadata": {},
   "outputs": [
    {
     "data": {
      "text/plain": [
       "0.9918644217758704"
      ]
     },
     "execution_count": 25,
     "metadata": {},
     "output_type": "execute_result"
    }
   ],
   "source": [
    "from sklearn.linear_model import Ridge\n",
    "model = Ridge()\n",
    "model.fit(df_tr,df_y)\n",
    "model.score(df_tr,df_y)"
   ]
  },
  {
   "cell_type": "markdown",
   "id": "bfbfa84a",
   "metadata": {},
   "source": [
    " ## Evaluating The Model Using Mean Squared Error"
   ]
  },
  {
   "cell_type": "code",
   "execution_count": 26,
   "id": "91bed603",
   "metadata": {},
   "outputs": [
    {
     "data": {
      "text/plain": [
       "27.901547043305083"
      ]
     },
     "execution_count": 26,
     "metadata": {},
     "output_type": "execute_result"
    }
   ],
   "source": [
    "from sklearn.metrics import mean_squared_error\n",
    "df_predictions=model.predict(df_tr)\n",
    "mean_squared_error(df_y, df_predictions)"
   ]
  },
  {
   "cell_type": "markdown",
   "id": "8cc1f333",
   "metadata": {},
   "source": [
    "## Using Better Evaluation Technique - Cross Validation "
   ]
  },
  {
   "cell_type": "code",
   "execution_count": 27,
   "id": "e70f0e83",
   "metadata": {},
   "outputs": [
    {
     "data": {
      "text/plain": [
       "array([0.99233354, 0.99291726, 0.9887196 , 0.99242569, 0.99144169,\n",
       "       0.99415686, 0.99265554, 0.99155308, 0.98988194])"
      ]
     },
     "execution_count": 27,
     "metadata": {},
     "output_type": "execute_result"
    }
   ],
   "source": [
    "from sklearn.model_selection import cross_val_score\n",
    "scores = cross_val_score(model,df_tr,df_y, cv=9)\n",
    "scores"
   ]
  },
  {
   "cell_type": "markdown",
   "id": "89b8ddf3",
   "metadata": {},
   "source": [
    "## Cross Validation With Shuffle Split"
   ]
  },
  {
   "cell_type": "code",
   "execution_count": 28,
   "id": "f5189ea5",
   "metadata": {},
   "outputs": [
    {
     "data": {
      "text/plain": [
       "array([0.99365401, 0.99160571, 0.99362269, 0.99226558, 0.99343199,\n",
       "       0.99297446, 0.98832815, 0.98969842, 0.99375459, 0.99257152])"
      ]
     },
     "execution_count": 28,
     "metadata": {},
     "output_type": "execute_result"
    }
   ],
   "source": [
    "from sklearn.model_selection import ShuffleSplit\n",
    "# Making 5 sets of of train and test set\n",
    "cv = ShuffleSplit(n_splits=10, test_size=0.2, random_state=0)\n",
    "# Finding out the score for each set with Linear Regression Model\n",
    "cross_val_score(Ridge(), df, df_y, cv=cv, scoring = \"r2\")"
   ]
  },
  {
   "cell_type": "markdown",
   "id": "0a0108f1",
   "metadata": {},
   "source": [
    "## 3) Neural Network Regression \n"
   ]
  },
  {
   "cell_type": "code",
   "execution_count": 29,
   "id": "02558dbe",
   "metadata": {},
   "outputs": [
    {
     "name": "stderr",
     "output_type": "stream",
     "text": [
      "E:\\Anaconda folder\\lib\\site-packages\\sklearn\\neural_network\\_multilayer_perceptron.py:692: ConvergenceWarning: Stochastic Optimizer: Maximum iterations (200) reached and the optimization hasn't converged yet.\n",
      "  warnings.warn(\n"
     ]
    },
    {
     "data": {
      "text/plain": [
       "0.995339086686599"
      ]
     },
     "execution_count": 29,
     "metadata": {},
     "output_type": "execute_result"
    }
   ],
   "source": [
    "from sklearn.neural_network import MLPRegressor\n",
    "model = MLPRegressor()\n",
    "model.fit(df_tr,df_y)\n",
    "model.score(df_tr,df_y)"
   ]
  },
  {
   "cell_type": "markdown",
   "id": "259f72cc",
   "metadata": {},
   "source": [
    "## Evaluating The Model Using Mean Squared Error"
   ]
  },
  {
   "cell_type": "code",
   "execution_count": 30,
   "id": "256e8ce7",
   "metadata": {},
   "outputs": [
    {
     "data": {
      "text/plain": [
       "15.98493536610785"
      ]
     },
     "execution_count": 30,
     "metadata": {},
     "output_type": "execute_result"
    }
   ],
   "source": [
    "from sklearn.metrics import mean_squared_error\n",
    "df_predictions=model.predict(df_tr)\n",
    "mean_squared_error(df_y, df_predictions)"
   ]
  },
  {
   "cell_type": "markdown",
   "id": "8f58fceb",
   "metadata": {},
   "source": [
    "## Using Better Evaluation Technique - Cross Validation  "
   ]
  },
  {
   "cell_type": "code",
   "execution_count": null,
   "id": "4a63a9a1",
   "metadata": {},
   "outputs": [
    {
     "name": "stderr",
     "output_type": "stream",
     "text": [
      "E:\\Anaconda folder\\lib\\site-packages\\sklearn\\neural_network\\_multilayer_perceptron.py:692: ConvergenceWarning: Stochastic Optimizer: Maximum iterations (200) reached and the optimization hasn't converged yet.\n",
      "  warnings.warn(\n",
      "E:\\Anaconda folder\\lib\\site-packages\\sklearn\\neural_network\\_multilayer_perceptron.py:692: ConvergenceWarning: Stochastic Optimizer: Maximum iterations (200) reached and the optimization hasn't converged yet.\n",
      "  warnings.warn(\n"
     ]
    }
   ],
   "source": [
    "from sklearn.model_selection import cross_val_score\n",
    "scores = cross_val_score(model,df_tr,df_y, cv=9)\n",
    "scores"
   ]
  },
  {
   "cell_type": "markdown",
   "id": "98e72956",
   "metadata": {},
   "source": [
    "## Cross Validation With Shuffle Split"
   ]
  },
  {
   "cell_type": "code",
   "execution_count": null,
   "id": "996ae2ce",
   "metadata": {},
   "outputs": [],
   "source": [
    "from sklearn.model_selection import ShuffleSplit\n",
    "# Making 5 sets of of train and test set\n",
    "cv = ShuffleSplit(n_splits=10, test_size=0.2, random_state=0)\n",
    "# Finding out the score for each set with Linear Regression Model\n",
    "cross_val_score(MLPRegressor(), df, df_y, cv=cv, scoring = \"r2\")"
   ]
  },
  {
   "cell_type": "markdown",
   "id": "af80fa9b",
   "metadata": {},
   "source": [
    "## 4) Lasso Regression "
   ]
  },
  {
   "cell_type": "code",
   "execution_count": null,
   "id": "b13c90b3",
   "metadata": {},
   "outputs": [],
   "source": [
    "from sklearn.linear_model import Lasso\n",
    "model = Lasso()\n",
    "model.fit(df_tr,df_y)\n",
    "model.score(df_tr,df_y)"
   ]
  },
  {
   "cell_type": "markdown",
   "id": "c1c84c09",
   "metadata": {},
   "source": [
    "## Evaluating The Model Using Mean Squared Error"
   ]
  },
  {
   "cell_type": "code",
   "execution_count": null,
   "id": "18fddbbf",
   "metadata": {},
   "outputs": [],
   "source": [
    "from sklearn.metrics import mean_squared_error\n",
    "df_predictions=model.predict(df_tr)\n",
    "mean_squared_error(df_y, df_predictions)"
   ]
  },
  {
   "cell_type": "markdown",
   "id": "026dfac9",
   "metadata": {},
   "source": [
    "## 5) Decision Tree Regression "
   ]
  },
  {
   "cell_type": "code",
   "execution_count": null,
   "id": "20d1685b",
   "metadata": {},
   "outputs": [],
   "source": [
    "from sklearn.tree import DecisionTreeRegressor\n",
    "model = DecisionTreeRegressor()\n",
    "model.fit(df_tr,df_y)\n",
    "model.score(df_tr,df_y)\n"
   ]
  },
  {
   "cell_type": "markdown",
   "id": "45311f2b",
   "metadata": {},
   "source": [
    "## Evaluating The Model Using Mean Squared Error"
   ]
  },
  {
   "cell_type": "code",
   "execution_count": null,
   "id": "bb87f5c9",
   "metadata": {},
   "outputs": [],
   "source": [
    "from sklearn.metrics import mean_squared_error\n",
    "df_predictions=model.predict(df_tr)\n",
    "mean_squared_error(df_y, df_predictions)"
   ]
  },
  {
   "cell_type": "markdown",
   "id": "240d3bf7",
   "metadata": {},
   "source": [
    "## Using Better Evaluation Technique - Cross Validation"
   ]
  },
  {
   "cell_type": "code",
   "execution_count": null,
   "id": "23ad0370",
   "metadata": {},
   "outputs": [],
   "source": [
    "from sklearn.model_selection import cross_val_score\n",
    "scores = cross_val_score(model,df_tr,df_y, cv=9)\n",
    "scores"
   ]
  },
  {
   "cell_type": "markdown",
   "id": "3634bb87",
   "metadata": {},
   "source": [
    "## Cross Validation With Shuffle Split"
   ]
  },
  {
   "cell_type": "code",
   "execution_count": null,
   "id": "31ca68dc",
   "metadata": {},
   "outputs": [],
   "source": [
    "from sklearn.model_selection import ShuffleSplit\n",
    "# Making 5 sets of of train and test set\n",
    "cv = ShuffleSplit(n_splits=10, test_size=0.2, random_state=0)\n",
    "# Finding out the score for each set with Linear Regression Model\n",
    "cross_val_score(DecisionTreeRegressor(), df, df_y, cv=cv, scoring = \"r2\")"
   ]
  },
  {
   "cell_type": "markdown",
   "id": "2db92c3e",
   "metadata": {},
   "source": [
    "## 6) Random Forest"
   ]
  },
  {
   "cell_type": "code",
   "execution_count": null,
   "id": "e255a89c",
   "metadata": {},
   "outputs": [],
   "source": [
    "from sklearn.ensemble import RandomForestRegressor\n",
    "model = RandomForestRegressor()\n",
    "model.fit(df_tr,df_y)\n",
    "model.score(df_tr,df_y)"
   ]
  },
  {
   "cell_type": "markdown",
   "id": "dcc18f2a",
   "metadata": {},
   "source": [
    "## Evaluating The Model Using Mean Squared Error"
   ]
  },
  {
   "cell_type": "code",
   "execution_count": null,
   "id": "20b3eae4",
   "metadata": {},
   "outputs": [],
   "source": [
    "from sklearn.metrics import mean_squared_error\n",
    "df_predictions=model.predict(df_tr)\n",
    "mean_squared_error(df_y, df_predictions)"
   ]
  },
  {
   "cell_type": "markdown",
   "id": "84dfe355",
   "metadata": {},
   "source": [
    "## 7) KNN Model "
   ]
  },
  {
   "cell_type": "code",
   "execution_count": null,
   "id": "971e0fa6",
   "metadata": {},
   "outputs": [],
   "source": [
    "from sklearn.neighbors import KNeighborsRegressor\n",
    "model = KNeighborsRegressor()\n",
    "model.fit(df_tr,df_y)\n",
    "model.score(df_tr,df_y)"
   ]
  },
  {
   "cell_type": "markdown",
   "id": "ce8f03df",
   "metadata": {},
   "source": [
    "## Evaluating The Model Using Mean Squared Error"
   ]
  },
  {
   "cell_type": "code",
   "execution_count": null,
   "id": "8adb3985",
   "metadata": {},
   "outputs": [],
   "source": [
    "from sklearn.metrics import mean_squared_error\n",
    "df_predictions=model.predict(df_tr)\n",
    "mean_squared_error(df_y, df_predictions)"
   ]
  },
  {
   "cell_type": "markdown",
   "id": "6a2aa9d5",
   "metadata": {},
   "source": [
    "## 8) Support Vector Machines (SVM)"
   ]
  },
  {
   "cell_type": "code",
   "execution_count": null,
   "id": "71f28c18",
   "metadata": {},
   "outputs": [],
   "source": [
    "from sklearn.svm import SVR\n",
    "model = SVR()\n",
    "model.fit(df_tr,df_y)\n",
    "model.score(df_tr,df_y)"
   ]
  },
  {
   "cell_type": "markdown",
   "id": "77553712",
   "metadata": {},
   "source": [
    "## Evaluating The Model Using Mean Squared Error"
   ]
  },
  {
   "cell_type": "code",
   "execution_count": null,
   "id": "aaf48817",
   "metadata": {},
   "outputs": [],
   "source": [
    "from sklearn.metrics import mean_squared_error\n",
    "df_predictions=model.predict(df_tr)\n",
    "mean_squared_error(df_y, df_predictions)"
   ]
  },
  {
   "cell_type": "markdown",
   "id": "386685b0",
   "metadata": {},
   "source": [
    "## 9. Gaussian Regression"
   ]
  },
  {
   "cell_type": "code",
   "execution_count": null,
   "id": "16c4c7fe",
   "metadata": {},
   "outputs": [],
   "source": [
    "from sklearn.gaussian_process import GaussianProcessRegressor\n",
    "model = GaussianProcessRegressor()\n",
    "model.fit(df_tr,df_y)\n",
    "model.score(df_tr,df_y)\n"
   ]
  },
  {
   "cell_type": "markdown",
   "id": "b7c7c436",
   "metadata": {},
   "source": [
    "## Evaluating The Model Using Mean Squared Error"
   ]
  },
  {
   "cell_type": "code",
   "execution_count": null,
   "id": "3823a22b",
   "metadata": {},
   "outputs": [],
   "source": [
    "from sklearn.metrics import mean_squared_error\n",
    "df_predictions=model.predict(df_tr)\n",
    "mean_squared_error(df_y, df_predictions)"
   ]
  },
  {
   "cell_type": "markdown",
   "id": "a06b6a6c",
   "metadata": {},
   "source": [
    "## 5) Decision Tree Regression"
   ]
  },
  {
   "cell_type": "code",
   "execution_count": null,
   "id": "fe03a88a",
   "metadata": {},
   "outputs": [],
   "source": [
    "from sklearn.tree import DecisionTreeRegressor\n",
    "model = DecisionTreeRegressor()\n",
    "model.fit(df_tr,df_y)\n",
    "model.score(df_tr,df_y)\n"
   ]
  },
  {
   "cell_type": "markdown",
   "id": "6202f785",
   "metadata": {},
   "source": [
    "## Evaluating The Model Using Mean Squared Error"
   ]
  },
  {
   "cell_type": "code",
   "execution_count": null,
   "id": "e9defdd5",
   "metadata": {},
   "outputs": [],
   "source": [
    "from sklearn.metrics import mean_squared_error\n",
    "df_predictions=model.predict(df_tr)\n",
    "mean_squared_error(df_y, df_predictions)"
   ]
  },
  {
   "cell_type": "markdown",
   "id": "a6c0a6ae",
   "metadata": {},
   "source": [
    "## Cross Validation With Shuffle Split"
   ]
  },
  {
   "cell_type": "code",
   "execution_count": null,
   "id": "21782e0e",
   "metadata": {},
   "outputs": [],
   "source": [
    "from sklearn.model_selection import ShuffleSplit\n",
    "# Making 5 sets of of train and test set\n",
    "cv = ShuffleSplit(n_splits=10, test_size=0.2, random_state=0)\n",
    "# Finding out the score for each set with Linear Regression Model\n",
    "cross_val_score(DecisionTreeRegressor(), df, df_y, cv=cv, scoring = \"r2\")"
   ]
  },
  {
   "cell_type": "markdown",
   "id": "f9d578af",
   "metadata": {},
   "source": [
    "## Performing the Predictions "
   ]
  },
  {
   "cell_type": "code",
   "execution_count": null,
   "id": "584bcdcd",
   "metadata": {},
   "outputs": [],
   "source": [
    "# Perform the prediction\n",
    "predictions_1 = model.predict(df_tr[0:1])\n",
    "predictions_2 = model.predict(df_tr[1:2])\n",
    "# Print the predictions\n",
    "print(f'The first predicted value is {predictions_1}')\n",
    "print(f'The second predicted value are {predictions_2}')"
   ]
  },
  {
   "cell_type": "code",
   "execution_count": null,
   "id": "cb98c4d7",
   "metadata": {},
   "outputs": [],
   "source": []
  },
  {
   "cell_type": "code",
   "execution_count": null,
   "id": "170aaa9f",
   "metadata": {},
   "outputs": [],
   "source": []
  },
  {
   "cell_type": "code",
   "execution_count": null,
   "id": "a743eefb",
   "metadata": {},
   "outputs": [],
   "source": [
    "df.to_csv('./CO2 Emissions_Canada_Edited.csv')"
   ]
  },
  {
   "cell_type": "code",
   "execution_count": null,
   "id": "47ddf324",
   "metadata": {},
   "outputs": [],
   "source": []
  }
 ],
 "metadata": {
  "kernelspec": {
   "display_name": "Python 3 (ipykernel)",
   "language": "python",
   "name": "python3"
  },
  "language_info": {
   "codemirror_mode": {
    "name": "ipython",
    "version": 3
   },
   "file_extension": ".py",
   "mimetype": "text/x-python",
   "name": "python",
   "nbconvert_exporter": "python",
   "pygments_lexer": "ipython3",
   "version": "3.9.13"
  }
 },
 "nbformat": 4,
 "nbformat_minor": 5
}
